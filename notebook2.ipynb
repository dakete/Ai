{
  "metadata": {
    "toc-autonumbering": true,
    "toc-showmarkdowntxt": false,
    "language_info": {
      "codemirror_mode": {
        "name": "python",
        "version": 3
      },
      "file_extension": ".py",
      "mimetype": "text/x-python",
      "name": "python",
      "nbconvert_exporter": "python",
      "pygments_lexer": "ipython3",
      "version": "3.8"
    },
    "kernelspec": {
      "name": "python",
      "display_name": "Python (Pyodide)",
      "language": "python"
    }
  },
  "nbformat_minor": 4,
  "nbformat": 4,
  "cells": [
    {
      "cell_type": "markdown",
      "source": "1.2.1 Пример\nЗадача:\nСоздать массив 5x2. Создать массив 5x2. Вывести все значения массива,\nзначение элемента с индексом (3,1) и второй столбец. Индексация\nначинается с нуля.\nРешение:",
      "metadata": {}
    },
    {
      "cell_type": "code",
      "source": "import numpy as np\nx = np.array([[1, 2], [3, 4], [5, 6], [7, 8], [9, 10]])\nprint(x)\nprint(x[3][1])\nprint(x[1])",
      "metadata": {
        "trusted": true
      },
      "execution_count": 1,
      "outputs": [
        {
          "name": "stdout",
          "text": "[[ 1  2]\n [ 3  4]\n [ 5  6]\n [ 7  8]\n [ 9 10]]\n8\n[3 4]\n",
          "output_type": "stream"
        }
      ]
    },
    {
      "cell_type": "markdown",
      "source": "1.2.2 Пример \nЗадача: \nПример. Выполнить следующее: \n1.Создать вектор (одномерный массив) размера 10, заполненный нулями. \n2.Создать вектор размера 10, заполненный единицами. \n3.Создать вектор размера 10, заполненный заданным числом. \n4.Создать вектор со значениями от 10 до 19. \nРешение:",
      "metadata": {}
    },
    {
      "cell_type": "code",
      "source": "a = np.zeros(10)\nb = np.ones(10)\nc = np.full(10, 5)\nd = np.arange(10, 20)\nprint(a, \"\\n\", b, \"\\n\", c, \"\\n\", d)",
      "metadata": {
        "trusted": true
      },
      "execution_count": 10,
      "outputs": [
        {
          "name": "stdout",
          "text": "[0. 0. 0. 0. 0. 0. 0. 0. 0. 0.] \n [1. 1. 1. 1. 1. 1. 1. 1. 1. 1.] \n [5 5 5 5 5 5 5 5 5 5] \n [10 11 12 13 14 15 16 17 18 19]\n",
          "output_type": "stream"
        }
      ]
    },
    {
      "cell_type": "markdown",
      "source": "1.2.3 Пример \nЗадача: \nСоздать массив 10x10 со случайными значениями, найти минимум, максимум и среднее значение.\nРешение:",
      "metadata": {}
    },
    {
      "cell_type": "code",
      "source": "Z = np.random.random((10, 10))\nZmin, Zmax, Zmean = Z.min(), Z.max(), Z.mean()\nprint(Zmin, Zmax, Zmean)",
      "metadata": {
        "trusted": true
      },
      "execution_count": 9,
      "outputs": [
        {
          "name": "stdout",
          "text": "0.0310722067609448 0.979082546632387 0.5122743161164022\n",
          "output_type": "stream"
        }
      ]
    },
    {
      "cell_type": "markdown",
      "source": "1.2.4 Пример \nЗадача: \nЗадать матрицу размерности 5 на 5 и п оменять 2 строки в матрице местами.\nРешение:",
      "metadata": {}
    },
    {
      "cell_type": "code",
      "source": "A = np.arange(25).reshape(5, 5)\nA[[0, 1]] = A[[1, 0]]\nprint(A)",
      "metadata": {
        "trusted": true
      },
      "execution_count": 8,
      "outputs": [
        {
          "name": "stdout",
          "text": "[[ 5  6  7  8  9]\n [ 0  1  2  3  4]\n [10 11 12 13 14]\n [15 16 17 18 19]\n [20 21 22 23 24]]\n",
          "output_type": "stream"
        }
      ]
    },
    {
      "cell_type": "markdown",
      "source": "1.2.5 Пример \nЗадача: \nВыяснить результат следующих выражений : \n0 * np.nan \nnp.nan == np.nan \nnp.inf > np.nan \nnp.nan - np.nan \n0.3 == 3 * 0.1 \nРешение:",
      "metadata": {}
    },
    {
      "cell_type": "code",
      "source": "print(0 * np.nan)\nprint(np.nan == np.nan)\nprint(np.inf > np.nan)\nprint(np.nan - np.nan)\nprint(0.3 == 3*0.1)",
      "metadata": {
        "trusted": true
      },
      "execution_count": 6,
      "outputs": [
        {
          "name": "stdout",
          "text": "nan\nFalse\nFalse\nnan\nFalse\n",
          "output_type": "stream"
        }
      ]
    },
    {
      "cell_type": "markdown",
      "source": "1.2.6 Пример \nЗадача: \nОтсортировать массив. \nРешение: ",
      "metadata": {}
    },
    {
      "cell_type": "code",
      "source": "arr = np.array([2, 1, 5, 3, 7, 4, 6, 8])\nprint(np.sort(arr))",
      "metadata": {
        "trusted": true
      },
      "execution_count": 7,
      "outputs": [
        {
          "name": "stdout",
          "text": "[1 2 3 4 5 6 7 8]\n",
          "output_type": "stream"
        }
      ]
    },
    {
      "cell_type": "markdown",
      "source": "1.3.1 Задание \nЗадача: \nСоздать 8x8 матрицу и заполнить её в шахматном порядке нулями и единицами. \nРешение: ",
      "metadata": {}
    },
    {
      "cell_type": "code",
      "source": "A = np.arange(64).reshape(8, 8)\nfor i in range(8):\n    for j in range(8):\n        A[i, j] = np.ones(1)\n        if (i%2==0 and j%2==0) or (i%2==1 and j%2==1):\n            A[i, j] = np.zeros(1)\nprint(A)",
      "metadata": {
        "trusted": true
      },
      "execution_count": 51,
      "outputs": [
        {
          "name": "stdout",
          "text": "[[0 1 0 1 0 1 0 1]\n [1 0 1 0 1 0 1 0]\n [0 1 0 1 0 1 0 1]\n [1 0 1 0 1 0 1 0]\n [0 1 0 1 0 1 0 1]\n [1 0 1 0 1 0 1 0]\n [0 1 0 1 0 1 0 1]\n [1 0 1 0 1 0 1 0]]\n",
          "output_type": "stream"
        }
      ]
    },
    {
      "cell_type": "markdown",
      "source": "1.3.2 Задание \nЗадача: \nСоздать 5x5 матрицу со значениями в строках от 0 до 4. Для создания необходимо использовать функцию arrange.",
      "metadata": {}
    },
    {
      "cell_type": "code",
      "source": "a = np.zeros(25).reshape(5, 5)\na += np.arange(5)\nprint(a)",
      "metadata": {
        "trusted": true
      },
      "execution_count": 50,
      "outputs": [
        {
          "name": "stdout",
          "text": "[[0. 1. 2. 3. 4.]\n [0. 1. 2. 3. 4.]\n [0. 1. 2. 3. 4.]\n [0. 1. 2. 3. 4.]\n [0. 1. 2. 3. 4.]]\n",
          "output_type": "stream"
        }
      ]
    },
    {
      "cell_type": "markdown",
      "source": "1.3.3 Задание \nЗадача: \nСоздать массив 3x3x3 со случайными значениями. \nРешение: ",
      "metadata": {}
    },
    {
      "cell_type": "code",
      "source": "a = np.random.random((3, 3, 3))\nprint(a)",
      "metadata": {
        "trusted": true
      },
      "execution_count": 73,
      "outputs": [
        {
          "name": "stdout",
          "text": "[[[0.90688414 0.81216631 0.20598987]\n  [0.57426751 0.56616739 0.53864504]\n  [0.08292399 0.08130899 0.36744678]]\n\n [[0.89766127 0.59856054 0.58072269]\n  [0.15748825 0.18369276 0.10619226]\n  [0.51660862 0.95723385 0.8929108 ]]\n\n [[0.03678905 0.84635079 0.10249631]\n  [0.99191422 0.09398875 0.49727706]\n  [0.47513393 0.15942859 0.40380962]]]\n",
          "output_type": "stream"
        }
      ]
    },
    {
      "cell_type": "markdown",
      "source": "1.3.4 Задание \nЗадача: \nСоздать матрицу с 0 внутри, и 1 на границах ",
      "metadata": {}
    },
    {
      "cell_type": "code",
      "source": "a = np.zeros((5, 5))\nfor i in range(5):\n    for j in range(5):\n        if (i==0 and 0<=j<=4) or (j==4 and 0<=i<=4) or (j==0 and 0<=i<=4) or (i==4 and 0<=j<=4):\n            a[i, j] = np.ones(1)\nprint(a)",
      "metadata": {
        "trusted": true
      },
      "execution_count": 68,
      "outputs": [
        {
          "name": "stdout",
          "text": "[[1. 1. 1. 1. 1.]\n [1. 0. 0. 0. 1.]\n [1. 0. 0. 0. 1.]\n [1. 0. 0. 0. 1.]\n [1. 1. 1. 1. 1.]]\n",
          "output_type": "stream"
        }
      ]
    },
    {
      "cell_type": "markdown",
      "source": "1.3.5 Задание \nЗадача: \nСоздайте массив и отсортируйте его по убыванию. \nРешение: ",
      "metadata": {}
    },
    {
      "cell_type": "code",
      "source": "a = np.array([3, 1, 9, 10, 67, 4, 8])\nprint(-np.sort(-a))",
      "metadata": {
        "trusted": true
      },
      "execution_count": 69,
      "outputs": [
        {
          "name": "stdout",
          "text": "[67 10  9  8  4  3  1]\n",
          "output_type": "stream"
        }
      ]
    },
    {
      "cell_type": "markdown",
      "source": "1.3.6 Задание \nЗадача: \nСоздайте матрицу, выведите ее форму, размер и размерность. ",
      "metadata": {}
    },
    {
      "cell_type": "code",
      "source": "a = np.arange(16).reshape(4, 4)\nprint(a)\nprint(np.shape(a))\nprint(np.size(a))",
      "metadata": {
        "trusted": true
      },
      "execution_count": 72,
      "outputs": [
        {
          "name": "stdout",
          "text": "[[ 0  1  2  3]\n [ 4  5  6  7]\n [ 8  9 10 11]\n [12 13 14 15]]\n(4, 4)\n16\n",
          "output_type": "stream"
        }
      ]
    },
    {
      "cell_type": "markdown",
      "source": "2.2.1 Пример \nЗадача: \nСоздать Series из списка Python, словаря Python, и массива Numpy (установить буквенные метки для последнего).  \nРешение: ",
      "metadata": {}
    },
    {
      "cell_type": "code",
      "source": "import pandas as pd\nimport numpy as np\nlst = [1, 2, 3, 4, 5]\nd = {'a': 1, 'b': 2, 'c': 3}\nndarr = np.array([1, 2, 3, 4, 5])\n\ns1 = pd.Series(lst)\ns2 = pd.Series(d)\ns3 = pd.Series(ndarr, ['a', 'b', 'c', 'd', 'e'])\n\nprint(s1)\nprint(s2)\nprint(s3)\n               ",
      "metadata": {
        "trusted": true
      },
      "execution_count": 16,
      "outputs": [
        {
          "name": "stdout",
          "text": "0    1\n1    2\n2    3\n3    4\n4    5\ndtype: int64\na    1\nb    2\nc    3\ndtype: int64\na    1\nb    2\nc    3\nd    4\ne    5\ndtype: int32\n",
          "output_type": "stream"
        }
      ]
    },
    {
      "cell_type": "markdown",
      "source": "2.2.2 Пример \nЗадача: \nДано два Series. Напечатать их первые элементы и все элементы после третьего (во втором фрейме).  \nРешение: ",
      "metadata": {}
    },
    {
      "cell_type": "code",
      "source": "s1 = pd.Series([1, 2, 3, 4, 5], ['a', 'b', 'c', 'd', 'e'])\ns2 = pd.Series([5, 4, 3, 2, 1])\nprint(s1['a'])\nprint(s2[0])\nprint(s2[3:])",
      "metadata": {
        "trusted": true
      },
      "execution_count": 5,
      "outputs": [
        {
          "name": "stdout",
          "text": "1\n5\n3    2\n4    1\ndtype: int64\n",
          "output_type": "stream"
        }
      ]
    },
    {
      "cell_type": "markdown",
      "source": "2.2.3 Пример \nЗадача: \nСоздайте новый фрейм данных. \nРешение:",
      "metadata": {}
    },
    {
      "cell_type": "code",
      "source": "dataframe = pd.DataFrame()\ndataframe['Имя'] = ['Джеки Джексон', 'Стивен Стивенсон']\ndataframe['Возраст'] = [38, 25]\ndataframe['Водитель'] = [True, False]\ndataframe",
      "metadata": {
        "trusted": true
      },
      "execution_count": 22,
      "outputs": [
        {
          "execution_count": 22,
          "output_type": "execute_result",
          "data": {
            "text/plain": "                Имя  Возраст  Водитель\n0     Джеки Джексон       38      True\n1  Стивен Стивенсон       25     False",
            "text/html": "<div>\n<style scoped>\n    .dataframe tbody tr th:only-of-type {\n        vertical-align: middle;\n    }\n\n    .dataframe tbody tr th {\n        vertical-align: top;\n    }\n\n    .dataframe thead th {\n        text-align: right;\n    }\n</style>\n<table border=\"1\" class=\"dataframe\">\n  <thead>\n    <tr style=\"text-align: right;\">\n      <th></th>\n      <th>Имя</th>\n      <th>Возраст</th>\n      <th>Водитель</th>\n    </tr>\n  </thead>\n  <tbody>\n    <tr>\n      <th>0</th>\n      <td>Джеки Джексон</td>\n      <td>38</td>\n      <td>True</td>\n    </tr>\n    <tr>\n      <th>1</th>\n      <td>Стивен Стивенсон</td>\n      <td>25</td>\n      <td>False</td>\n    </tr>\n  </tbody>\n</table>\n</div>"
          },
          "metadata": {}
        }
      ]
    },
    {
      "cell_type": "markdown",
      "source": "2.2.4 Пример \nЗадача: \nЗагрузите фрейм данных по ссылке: \nhttps://raw.githubusercontent.com/chrisalbon/simulated_datasets/master/titanic.csv\nРешение:",
      "metadata": {}
    },
    {
      "cell_type": "code",
      "source": "import pandas as pd\nimport pyodide_http\npyodide_http.patch_all()\nurl = 'https://raw.githubusercontent.com/chrisalbon/simulated_datasets/master/titanic.csv'\ndataframe = pd.read_csv(url)\ndataframe.head(5)",
      "metadata": {
        "trusted": true
      },
      "execution_count": 4,
      "outputs": [
        {
          "execution_count": 4,
          "output_type": "execute_result",
          "data": {
            "text/plain": "                                            Name PClass    Age     Sex  \\\n0                   Allen, Miss Elisabeth Walton    1st  29.00  female   \n1                    Allison, Miss Helen Loraine    1st   2.00  female   \n2            Allison, Mr Hudson Joshua Creighton    1st  30.00    male   \n3  Allison, Mrs Hudson JC (Bessie Waldo Daniels)    1st  25.00  female   \n4                  Allison, Master Hudson Trevor    1st   0.92    male   \n\n   Survived  SexCode  \n0         1        1  \n1         0        1  \n2         0        0  \n3         0        1  \n4         1        0  ",
            "text/html": "<div>\n<style scoped>\n    .dataframe tbody tr th:only-of-type {\n        vertical-align: middle;\n    }\n\n    .dataframe tbody tr th {\n        vertical-align: top;\n    }\n\n    .dataframe thead th {\n        text-align: right;\n    }\n</style>\n<table border=\"1\" class=\"dataframe\">\n  <thead>\n    <tr style=\"text-align: right;\">\n      <th></th>\n      <th>Name</th>\n      <th>PClass</th>\n      <th>Age</th>\n      <th>Sex</th>\n      <th>Survived</th>\n      <th>SexCode</th>\n    </tr>\n  </thead>\n  <tbody>\n    <tr>\n      <th>0</th>\n      <td>Allen, Miss Elisabeth Walton</td>\n      <td>1st</td>\n      <td>29.00</td>\n      <td>female</td>\n      <td>1</td>\n      <td>1</td>\n    </tr>\n    <tr>\n      <th>1</th>\n      <td>Allison, Miss Helen Loraine</td>\n      <td>1st</td>\n      <td>2.00</td>\n      <td>female</td>\n      <td>0</td>\n      <td>1</td>\n    </tr>\n    <tr>\n      <th>2</th>\n      <td>Allison, Mr Hudson Joshua Creighton</td>\n      <td>1st</td>\n      <td>30.00</td>\n      <td>male</td>\n      <td>0</td>\n      <td>0</td>\n    </tr>\n    <tr>\n      <th>3</th>\n      <td>Allison, Mrs Hudson JC (Bessie Waldo Daniels)</td>\n      <td>1st</td>\n      <td>25.00</td>\n      <td>female</td>\n      <td>0</td>\n      <td>1</td>\n    </tr>\n    <tr>\n      <th>4</th>\n      <td>Allison, Master Hudson Trevor</td>\n      <td>1st</td>\n      <td>0.92</td>\n      <td>male</td>\n      <td>1</td>\n      <td>0</td>\n    </tr>\n  </tbody>\n</table>\n</div>"
          },
          "metadata": {}
        }
      ]
    },
    {
      "cell_type": "code",
      "source": "2.2.5 Пример \nЗадача: \nПронализировать характеристики фрейма данных. ",
      "metadata": {},
      "execution_count": null,
      "outputs": []
    },
    {
      "cell_type": "code",
      "source": "dataframe.head(2)\ndataframe.tail(3)\ndataframe.shape\ndataframe.describe()",
      "metadata": {
        "trusted": true
      },
      "execution_count": 6,
      "outputs": [
        {
          "execution_count": 6,
          "output_type": "execute_result",
          "data": {
            "text/plain": "              Age     Survived      SexCode\ncount  756.000000  1313.000000  1313.000000\nmean    30.397989     0.342727     0.351866\nstd     14.259049     0.474802     0.477734\nmin      0.170000     0.000000     0.000000\n25%     21.000000     0.000000     0.000000\n50%     28.000000     0.000000     0.000000\n75%     39.000000     1.000000     1.000000\nmax     71.000000     1.000000     1.000000",
            "text/html": "<div>\n<style scoped>\n    .dataframe tbody tr th:only-of-type {\n        vertical-align: middle;\n    }\n\n    .dataframe tbody tr th {\n        vertical-align: top;\n    }\n\n    .dataframe thead th {\n        text-align: right;\n    }\n</style>\n<table border=\"1\" class=\"dataframe\">\n  <thead>\n    <tr style=\"text-align: right;\">\n      <th></th>\n      <th>Age</th>\n      <th>Survived</th>\n      <th>SexCode</th>\n    </tr>\n  </thead>\n  <tbody>\n    <tr>\n      <th>count</th>\n      <td>756.000000</td>\n      <td>1313.000000</td>\n      <td>1313.000000</td>\n    </tr>\n    <tr>\n      <th>mean</th>\n      <td>30.397989</td>\n      <td>0.342727</td>\n      <td>0.351866</td>\n    </tr>\n    <tr>\n      <th>std</th>\n      <td>14.259049</td>\n      <td>0.474802</td>\n      <td>0.477734</td>\n    </tr>\n    <tr>\n      <th>min</th>\n      <td>0.170000</td>\n      <td>0.000000</td>\n      <td>0.000000</td>\n    </tr>\n    <tr>\n      <th>25%</th>\n      <td>21.000000</td>\n      <td>0.000000</td>\n      <td>0.000000</td>\n    </tr>\n    <tr>\n      <th>50%</th>\n      <td>28.000000</td>\n      <td>0.000000</td>\n      <td>0.000000</td>\n    </tr>\n    <tr>\n      <th>75%</th>\n      <td>39.000000</td>\n      <td>1.000000</td>\n      <td>1.000000</td>\n    </tr>\n    <tr>\n      <th>max</th>\n      <td>71.000000</td>\n      <td>1.000000</td>\n      <td>1.000000</td>\n    </tr>\n  </tbody>\n</table>\n</div>"
          },
          "metadata": {}
        }
      ]
    },
    {
      "cell_type": "markdown",
      "source": "2.2.6 Пример \nЗадача: \nВыберите индивидуальные данные или срезы фрейма данных. \nРешение: ",
      "metadata": {}
    },
    {
      "cell_type": "code",
      "source": "dataframe.iloc[1:4]",
      "metadata": {
        "trusted": true
      },
      "execution_count": 7,
      "outputs": [
        {
          "execution_count": 7,
          "output_type": "execute_result",
          "data": {
            "text/plain": "                                            Name PClass   Age     Sex  \\\n1                    Allison, Miss Helen Loraine    1st   2.0  female   \n2            Allison, Mr Hudson Joshua Creighton    1st  30.0    male   \n3  Allison, Mrs Hudson JC (Bessie Waldo Daniels)    1st  25.0  female   \n\n   Survived  SexCode  \n1         0        1  \n2         0        0  \n3         0        1  ",
            "text/html": "<div>\n<style scoped>\n    .dataframe tbody tr th:only-of-type {\n        vertical-align: middle;\n    }\n\n    .dataframe tbody tr th {\n        vertical-align: top;\n    }\n\n    .dataframe thead th {\n        text-align: right;\n    }\n</style>\n<table border=\"1\" class=\"dataframe\">\n  <thead>\n    <tr style=\"text-align: right;\">\n      <th></th>\n      <th>Name</th>\n      <th>PClass</th>\n      <th>Age</th>\n      <th>Sex</th>\n      <th>Survived</th>\n      <th>SexCode</th>\n    </tr>\n  </thead>\n  <tbody>\n    <tr>\n      <th>1</th>\n      <td>Allison, Miss Helen Loraine</td>\n      <td>1st</td>\n      <td>2.0</td>\n      <td>female</td>\n      <td>0</td>\n      <td>1</td>\n    </tr>\n    <tr>\n      <th>2</th>\n      <td>Allison, Mr Hudson Joshua Creighton</td>\n      <td>1st</td>\n      <td>30.0</td>\n      <td>male</td>\n      <td>0</td>\n      <td>0</td>\n    </tr>\n    <tr>\n      <th>3</th>\n      <td>Allison, Mrs Hudson JC (Bessie Waldo Daniels)</td>\n      <td>1st</td>\n      <td>25.0</td>\n      <td>female</td>\n      <td>0</td>\n      <td>1</td>\n    </tr>\n  </tbody>\n</table>\n</div>"
          },
          "metadata": {}
        }
      ]
    },
    {
      "cell_type": "markdown",
      "source": "2.2.7 Пример \nЗадача: \nТребуется отобрать строки фрейма данных на основе некоторого условия. Необходимо сформировать новый фрейм данных из пассажиров первого класса. \nРешение: ",
      "metadata": {}
    },
    {
      "cell_type": "code",
      "source": "dataframe[dataframe['PClass'] == '1st'].head(2)",
      "metadata": {
        "trusted": true
      },
      "execution_count": 8,
      "outputs": [
        {
          "execution_count": 8,
          "output_type": "execute_result",
          "data": {
            "text/plain": "                           Name PClass   Age     Sex  Survived  SexCode\n0  Allen, Miss Elisabeth Walton    1st  29.0  female         1        1\n1   Allison, Miss Helen Loraine    1st   2.0  female         0        1",
            "text/html": "<div>\n<style scoped>\n    .dataframe tbody tr th:only-of-type {\n        vertical-align: middle;\n    }\n\n    .dataframe tbody tr th {\n        vertical-align: top;\n    }\n\n    .dataframe thead th {\n        text-align: right;\n    }\n</style>\n<table border=\"1\" class=\"dataframe\">\n  <thead>\n    <tr style=\"text-align: right;\">\n      <th></th>\n      <th>Name</th>\n      <th>PClass</th>\n      <th>Age</th>\n      <th>Sex</th>\n      <th>Survived</th>\n      <th>SexCode</th>\n    </tr>\n  </thead>\n  <tbody>\n    <tr>\n      <th>0</th>\n      <td>Allen, Miss Elisabeth Walton</td>\n      <td>1st</td>\n      <td>29.0</td>\n      <td>female</td>\n      <td>1</td>\n      <td>1</td>\n    </tr>\n    <tr>\n      <th>1</th>\n      <td>Allison, Miss Helen Loraine</td>\n      <td>1st</td>\n      <td>2.0</td>\n      <td>female</td>\n      <td>0</td>\n      <td>1</td>\n    </tr>\n  </tbody>\n</table>\n</div>"
          },
          "metadata": {}
        }
      ]
    },
    {
      "cell_type": "markdown",
      "source": "2.3.1 Задание \nЗадача: \nНайдите евклидово расстояние между двумя Series (точками) a и b, не используя встроенную формулу. \nРешение:",
      "metadata": {}
    },
    {
      "cell_type": "code",
      "source": "import numpy as np\na = pd.Series([2, 4, 6, 8])\nb = pd.Series([1, 3, 5, 7])\nsum((a - b)**2)**.5\nnp.linalg.norm(a-b)",
      "metadata": {
        "trusted": true
      },
      "execution_count": 12,
      "outputs": [
        {
          "execution_count": 12,
          "output_type": "execute_result",
          "data": {
            "text/plain": "2.0"
          },
          "metadata": {}
        }
      ]
    },
    {
      "cell_type": "markdown",
      "source": "2.3.2 Задание\nЗадача:\nНайдите в Интернете ссылку на любой csv файл и сформируйте из него\nфрейм данных (например, коллекцию фреймов данных можно найти\nздесь: https://github.com/akmand/datasets).",
      "metadata": {}
    },
    {
      "cell_type": "code",
      "source": "import pandas as pd\nimport pyodide_http\npyodide_http.patch_all()\nurl = 'https://raw.githubusercontent.com/akmand/datasets/main/adult.csv'\ndataframe = pd.read_csv(url)\ndataframe.head(10)",
      "metadata": {
        "trusted": true
      },
      "execution_count": 36,
      "outputs": [
        {
          "execution_count": 36,
          "output_type": "execute_result",
          "data": {
            "text/plain": "   age         workclass  education_num         marital_status  \\\n0   39         State-gov             13          Never-married   \n1   50  Self-emp-not-inc             13     Married-civ-spouse   \n2   38           Private              9               Divorced   \n3   53           Private              7     Married-civ-spouse   \n4   28           Private             13     Married-civ-spouse   \n5   37           Private             14     Married-civ-spouse   \n6   49           Private              5  Married-spouse-absent   \n7   52  Self-emp-not-inc              9     Married-civ-spouse   \n8   31           Private             14          Never-married   \n9   42           Private             13     Married-civ-spouse   \n\n          occupation   relationship   race  gender  hours_per_week  \\\n0       Adm-clerical  Not-in-family  White    Male              40   \n1    Exec-managerial        Husband  White    Male              13   \n2  Handlers-cleaners  Not-in-family  White    Male              40   \n3  Handlers-cleaners        Husband  Other    Male              40   \n4     Prof-specialty           Wife  Other  Female              40   \n5    Exec-managerial           Wife  White  Female              40   \n6      Other-service  Not-in-family  Other  Female              16   \n7    Exec-managerial        Husband  White    Male              45   \n8     Prof-specialty  Not-in-family  White  Female              50   \n9    Exec-managerial        Husband  White    Male              40   \n\n  native_country  capital income_status  \n0  United-States     2174         <=50K  \n1  United-States        0         <=50K  \n2  United-States        0         <=50K  \n3  United-States        0         <=50K  \n4          Other        0         <=50K  \n5  United-States        0         <=50K  \n6          Other        0         <=50K  \n7  United-States        0          >50K  \n8  United-States    14084          >50K  \n9  United-States     5178          >50K  ",
            "text/html": "<div>\n<style scoped>\n    .dataframe tbody tr th:only-of-type {\n        vertical-align: middle;\n    }\n\n    .dataframe tbody tr th {\n        vertical-align: top;\n    }\n\n    .dataframe thead th {\n        text-align: right;\n    }\n</style>\n<table border=\"1\" class=\"dataframe\">\n  <thead>\n    <tr style=\"text-align: right;\">\n      <th></th>\n      <th>age</th>\n      <th>workclass</th>\n      <th>education_num</th>\n      <th>marital_status</th>\n      <th>occupation</th>\n      <th>relationship</th>\n      <th>race</th>\n      <th>gender</th>\n      <th>hours_per_week</th>\n      <th>native_country</th>\n      <th>capital</th>\n      <th>income_status</th>\n    </tr>\n  </thead>\n  <tbody>\n    <tr>\n      <th>0</th>\n      <td>39</td>\n      <td>State-gov</td>\n      <td>13</td>\n      <td>Never-married</td>\n      <td>Adm-clerical</td>\n      <td>Not-in-family</td>\n      <td>White</td>\n      <td>Male</td>\n      <td>40</td>\n      <td>United-States</td>\n      <td>2174</td>\n      <td>&lt;=50K</td>\n    </tr>\n    <tr>\n      <th>1</th>\n      <td>50</td>\n      <td>Self-emp-not-inc</td>\n      <td>13</td>\n      <td>Married-civ-spouse</td>\n      <td>Exec-managerial</td>\n      <td>Husband</td>\n      <td>White</td>\n      <td>Male</td>\n      <td>13</td>\n      <td>United-States</td>\n      <td>0</td>\n      <td>&lt;=50K</td>\n    </tr>\n    <tr>\n      <th>2</th>\n      <td>38</td>\n      <td>Private</td>\n      <td>9</td>\n      <td>Divorced</td>\n      <td>Handlers-cleaners</td>\n      <td>Not-in-family</td>\n      <td>White</td>\n      <td>Male</td>\n      <td>40</td>\n      <td>United-States</td>\n      <td>0</td>\n      <td>&lt;=50K</td>\n    </tr>\n    <tr>\n      <th>3</th>\n      <td>53</td>\n      <td>Private</td>\n      <td>7</td>\n      <td>Married-civ-spouse</td>\n      <td>Handlers-cleaners</td>\n      <td>Husband</td>\n      <td>Other</td>\n      <td>Male</td>\n      <td>40</td>\n      <td>United-States</td>\n      <td>0</td>\n      <td>&lt;=50K</td>\n    </tr>\n    <tr>\n      <th>4</th>\n      <td>28</td>\n      <td>Private</td>\n      <td>13</td>\n      <td>Married-civ-spouse</td>\n      <td>Prof-specialty</td>\n      <td>Wife</td>\n      <td>Other</td>\n      <td>Female</td>\n      <td>40</td>\n      <td>Other</td>\n      <td>0</td>\n      <td>&lt;=50K</td>\n    </tr>\n    <tr>\n      <th>5</th>\n      <td>37</td>\n      <td>Private</td>\n      <td>14</td>\n      <td>Married-civ-spouse</td>\n      <td>Exec-managerial</td>\n      <td>Wife</td>\n      <td>White</td>\n      <td>Female</td>\n      <td>40</td>\n      <td>United-States</td>\n      <td>0</td>\n      <td>&lt;=50K</td>\n    </tr>\n    <tr>\n      <th>6</th>\n      <td>49</td>\n      <td>Private</td>\n      <td>5</td>\n      <td>Married-spouse-absent</td>\n      <td>Other-service</td>\n      <td>Not-in-family</td>\n      <td>Other</td>\n      <td>Female</td>\n      <td>16</td>\n      <td>Other</td>\n      <td>0</td>\n      <td>&lt;=50K</td>\n    </tr>\n    <tr>\n      <th>7</th>\n      <td>52</td>\n      <td>Self-emp-not-inc</td>\n      <td>9</td>\n      <td>Married-civ-spouse</td>\n      <td>Exec-managerial</td>\n      <td>Husband</td>\n      <td>White</td>\n      <td>Male</td>\n      <td>45</td>\n      <td>United-States</td>\n      <td>0</td>\n      <td>&gt;50K</td>\n    </tr>\n    <tr>\n      <th>8</th>\n      <td>31</td>\n      <td>Private</td>\n      <td>14</td>\n      <td>Never-married</td>\n      <td>Prof-specialty</td>\n      <td>Not-in-family</td>\n      <td>White</td>\n      <td>Female</td>\n      <td>50</td>\n      <td>United-States</td>\n      <td>14084</td>\n      <td>&gt;50K</td>\n    </tr>\n    <tr>\n      <th>9</th>\n      <td>42</td>\n      <td>Private</td>\n      <td>13</td>\n      <td>Married-civ-spouse</td>\n      <td>Exec-managerial</td>\n      <td>Husband</td>\n      <td>White</td>\n      <td>Male</td>\n      <td>40</td>\n      <td>United-States</td>\n      <td>5178</td>\n      <td>&gt;50K</td>\n    </tr>\n  </tbody>\n</table>\n</div>"
          },
          "metadata": {}
        }
      ]
    },
    {
      "cell_type": "markdown",
      "source": "2.3.3 Задание \nЗадача: \nПроделайте с получившемся из предыдущего задания фреймом данных те же действия, что и в примерах 2.2.5-2.2.7. \nРешение: ",
      "metadata": {}
    },
    {
      "cell_type": "code",
      "source": "dataframe.head(2)\ndataframe.tail(3)\ndataframe.shape\ndataframe.describe()",
      "metadata": {
        "trusted": true
      },
      "execution_count": 37,
      "outputs": [
        {
          "execution_count": 37,
          "output_type": "execute_result",
          "data": {
            "text/plain": "                age  education_num  hours_per_week       capital\ncount  45222.000000   45222.000000    45222.000000  45222.000000\nmean      38.547941      10.118460       40.938017   1012.834925\nstd       13.217870       2.552881       12.007508   7530.315380\nmin       17.000000       1.000000        1.000000  -4356.000000\n25%       28.000000       9.000000       40.000000      0.000000\n50%       37.000000      10.000000       40.000000      0.000000\n75%       47.000000      13.000000       45.000000      0.000000\nmax       90.000000      16.000000       99.000000  99999.000000",
            "text/html": "<div>\n<style scoped>\n    .dataframe tbody tr th:only-of-type {\n        vertical-align: middle;\n    }\n\n    .dataframe tbody tr th {\n        vertical-align: top;\n    }\n\n    .dataframe thead th {\n        text-align: right;\n    }\n</style>\n<table border=\"1\" class=\"dataframe\">\n  <thead>\n    <tr style=\"text-align: right;\">\n      <th></th>\n      <th>age</th>\n      <th>education_num</th>\n      <th>hours_per_week</th>\n      <th>capital</th>\n    </tr>\n  </thead>\n  <tbody>\n    <tr>\n      <th>count</th>\n      <td>45222.000000</td>\n      <td>45222.000000</td>\n      <td>45222.000000</td>\n      <td>45222.000000</td>\n    </tr>\n    <tr>\n      <th>mean</th>\n      <td>38.547941</td>\n      <td>10.118460</td>\n      <td>40.938017</td>\n      <td>1012.834925</td>\n    </tr>\n    <tr>\n      <th>std</th>\n      <td>13.217870</td>\n      <td>2.552881</td>\n      <td>12.007508</td>\n      <td>7530.315380</td>\n    </tr>\n    <tr>\n      <th>min</th>\n      <td>17.000000</td>\n      <td>1.000000</td>\n      <td>1.000000</td>\n      <td>-4356.000000</td>\n    </tr>\n    <tr>\n      <th>25%</th>\n      <td>28.000000</td>\n      <td>9.000000</td>\n      <td>40.000000</td>\n      <td>0.000000</td>\n    </tr>\n    <tr>\n      <th>50%</th>\n      <td>37.000000</td>\n      <td>10.000000</td>\n      <td>40.000000</td>\n      <td>0.000000</td>\n    </tr>\n    <tr>\n      <th>75%</th>\n      <td>47.000000</td>\n      <td>13.000000</td>\n      <td>45.000000</td>\n      <td>0.000000</td>\n    </tr>\n    <tr>\n      <th>max</th>\n      <td>90.000000</td>\n      <td>16.000000</td>\n      <td>99.000000</td>\n      <td>99999.000000</td>\n    </tr>\n  </tbody>\n</table>\n</div>"
          },
          "metadata": {}
        }
      ]
    },
    {
      "cell_type": "code",
      "source": "dataframe.iloc[1:4]",
      "metadata": {
        "trusted": true
      },
      "execution_count": 38,
      "outputs": [
        {
          "execution_count": 38,
          "output_type": "execute_result",
          "data": {
            "text/plain": "   age         workclass  education_num      marital_status  \\\n1   50  Self-emp-not-inc             13  Married-civ-spouse   \n2   38           Private              9            Divorced   \n3   53           Private              7  Married-civ-spouse   \n\n          occupation   relationship   race gender  hours_per_week  \\\n1    Exec-managerial        Husband  White   Male              13   \n2  Handlers-cleaners  Not-in-family  White   Male              40   \n3  Handlers-cleaners        Husband  Other   Male              40   \n\n  native_country  capital income_status  \n1  United-States        0         <=50K  \n2  United-States        0         <=50K  \n3  United-States        0         <=50K  ",
            "text/html": "<div>\n<style scoped>\n    .dataframe tbody tr th:only-of-type {\n        vertical-align: middle;\n    }\n\n    .dataframe tbody tr th {\n        vertical-align: top;\n    }\n\n    .dataframe thead th {\n        text-align: right;\n    }\n</style>\n<table border=\"1\" class=\"dataframe\">\n  <thead>\n    <tr style=\"text-align: right;\">\n      <th></th>\n      <th>age</th>\n      <th>workclass</th>\n      <th>education_num</th>\n      <th>marital_status</th>\n      <th>occupation</th>\n      <th>relationship</th>\n      <th>race</th>\n      <th>gender</th>\n      <th>hours_per_week</th>\n      <th>native_country</th>\n      <th>capital</th>\n      <th>income_status</th>\n    </tr>\n  </thead>\n  <tbody>\n    <tr>\n      <th>1</th>\n      <td>50</td>\n      <td>Self-emp-not-inc</td>\n      <td>13</td>\n      <td>Married-civ-spouse</td>\n      <td>Exec-managerial</td>\n      <td>Husband</td>\n      <td>White</td>\n      <td>Male</td>\n      <td>13</td>\n      <td>United-States</td>\n      <td>0</td>\n      <td>&lt;=50K</td>\n    </tr>\n    <tr>\n      <th>2</th>\n      <td>38</td>\n      <td>Private</td>\n      <td>9</td>\n      <td>Divorced</td>\n      <td>Handlers-cleaners</td>\n      <td>Not-in-family</td>\n      <td>White</td>\n      <td>Male</td>\n      <td>40</td>\n      <td>United-States</td>\n      <td>0</td>\n      <td>&lt;=50K</td>\n    </tr>\n    <tr>\n      <th>3</th>\n      <td>53</td>\n      <td>Private</td>\n      <td>7</td>\n      <td>Married-civ-spouse</td>\n      <td>Handlers-cleaners</td>\n      <td>Husband</td>\n      <td>Other</td>\n      <td>Male</td>\n      <td>40</td>\n      <td>United-States</td>\n      <td>0</td>\n      <td>&lt;=50K</td>\n    </tr>\n  </tbody>\n</table>\n</div>"
          },
          "metadata": {}
        }
      ]
    },
    {
      "cell_type": "code",
      "source": "dataframe[dataframe['gender'] == 'Female'].head(5)",
      "metadata": {
        "trusted": true
      },
      "execution_count": 39,
      "outputs": [
        {
          "execution_count": 39,
          "output_type": "execute_result",
          "data": {
            "text/plain": "    age workclass  education_num         marital_status       occupation  \\\n4    28   Private             13     Married-civ-spouse   Prof-specialty   \n5    37   Private             14     Married-civ-spouse  Exec-managerial   \n6    49   Private              5  Married-spouse-absent    Other-service   \n8    31   Private             14          Never-married   Prof-specialty   \n12   23   Private             13          Never-married     Adm-clerical   \n\n     relationship   race  gender  hours_per_week native_country  capital  \\\n4            Wife  Other  Female              40          Other        0   \n5            Wife  White  Female              40  United-States        0   \n6   Not-in-family  Other  Female              16          Other        0   \n8   Not-in-family  White  Female              50  United-States    14084   \n12      Own-child  White  Female              30  United-States        0   \n\n   income_status  \n4          <=50K  \n5          <=50K  \n6          <=50K  \n8           >50K  \n12         <=50K  ",
            "text/html": "<div>\n<style scoped>\n    .dataframe tbody tr th:only-of-type {\n        vertical-align: middle;\n    }\n\n    .dataframe tbody tr th {\n        vertical-align: top;\n    }\n\n    .dataframe thead th {\n        text-align: right;\n    }\n</style>\n<table border=\"1\" class=\"dataframe\">\n  <thead>\n    <tr style=\"text-align: right;\">\n      <th></th>\n      <th>age</th>\n      <th>workclass</th>\n      <th>education_num</th>\n      <th>marital_status</th>\n      <th>occupation</th>\n      <th>relationship</th>\n      <th>race</th>\n      <th>gender</th>\n      <th>hours_per_week</th>\n      <th>native_country</th>\n      <th>capital</th>\n      <th>income_status</th>\n    </tr>\n  </thead>\n  <tbody>\n    <tr>\n      <th>4</th>\n      <td>28</td>\n      <td>Private</td>\n      <td>13</td>\n      <td>Married-civ-spouse</td>\n      <td>Prof-specialty</td>\n      <td>Wife</td>\n      <td>Other</td>\n      <td>Female</td>\n      <td>40</td>\n      <td>Other</td>\n      <td>0</td>\n      <td>&lt;=50K</td>\n    </tr>\n    <tr>\n      <th>5</th>\n      <td>37</td>\n      <td>Private</td>\n      <td>14</td>\n      <td>Married-civ-spouse</td>\n      <td>Exec-managerial</td>\n      <td>Wife</td>\n      <td>White</td>\n      <td>Female</td>\n      <td>40</td>\n      <td>United-States</td>\n      <td>0</td>\n      <td>&lt;=50K</td>\n    </tr>\n    <tr>\n      <th>6</th>\n      <td>49</td>\n      <td>Private</td>\n      <td>5</td>\n      <td>Married-spouse-absent</td>\n      <td>Other-service</td>\n      <td>Not-in-family</td>\n      <td>Other</td>\n      <td>Female</td>\n      <td>16</td>\n      <td>Other</td>\n      <td>0</td>\n      <td>&lt;=50K</td>\n    </tr>\n    <tr>\n      <th>8</th>\n      <td>31</td>\n      <td>Private</td>\n      <td>14</td>\n      <td>Never-married</td>\n      <td>Prof-specialty</td>\n      <td>Not-in-family</td>\n      <td>White</td>\n      <td>Female</td>\n      <td>50</td>\n      <td>United-States</td>\n      <td>14084</td>\n      <td>&gt;50K</td>\n    </tr>\n    <tr>\n      <th>12</th>\n      <td>23</td>\n      <td>Private</td>\n      <td>13</td>\n      <td>Never-married</td>\n      <td>Adm-clerical</td>\n      <td>Own-child</td>\n      <td>White</td>\n      <td>Female</td>\n      <td>30</td>\n      <td>United-States</td>\n      <td>0</td>\n      <td>&lt;=50K</td>\n    </tr>\n  </tbody>\n</table>\n</div>"
          },
          "metadata": {}
        }
      ]
    },
    {
      "cell_type": "markdown",
      "source": "3.2.1. Пример \nЗадача: \nПрошкалируйте числовой признак в диапазон между двумя значениями. \nРешение:",
      "metadata": {}
    },
    {
      "cell_type": "code",
      "source": "import numpy as np\nfrom sklearn import preprocessing\n\nfeature = np.array([[-500.5], [-100.1], [0], [100.1], [900.9]])\nminmax_scale = preprocessing.MinMaxScaler(feature_range=(0,1))\nscaled_feature = minmax_scale.fit_transform(feature)\nscaled_feature",
      "metadata": {
        "trusted": true
      },
      "execution_count": 23,
      "outputs": [
        {
          "execution_count": 23,
          "output_type": "execute_result",
          "data": {
            "text/plain": "array([[0.        ],\n       [0.28571429],\n       [0.35714286],\n       [0.42857143],\n       [1.        ]])"
          },
          "metadata": {}
        }
      ]
    },
    {
      "cell_type": "markdown",
      "source": "3.2.2. Пример \nЗадача: \nПреобразуйте признак, чтобы он имел среднее значение 0 и стандартное отклонение 1. \nРешение: ",
      "metadata": {}
    },
    {
      "cell_type": "code",
      "source": "x = np.array([[-1000.1], [-200.2], [500.5], [600.6], [9000.9]])\nscaler = preprocessing.StandardScaler()\nstandardized = scaler.fit_transform(x)\nprint(\"Среднее:\", round(standardized.mean()))\nprint(\"Стандартно отклонение:\", standardized.std())\nstandardized",
      "metadata": {
        "trusted": true
      },
      "execution_count": 25,
      "outputs": [
        {
          "name": "stdout",
          "text": "Среднее: 0\nСтандартно отклонение: 1.0\n",
          "output_type": "stream"
        },
        {
          "execution_count": 25,
          "output_type": "execute_result",
          "data": {
            "text/plain": "array([[-0.76058269],\n       [-0.54177196],\n       [-0.35009716],\n       [-0.32271504],\n       [ 1.97516685]])"
          },
          "metadata": {}
        }
      ]
    },
    {
      "cell_type": "markdown",
      "source": "3.2.3. Пример \nЗадача: \nДан фрейм данных  \ndfTest = pd.DataFrame({'A':[14.00,90.20,90.95,96.27,91.21], \n                           'B'[103.02,107.26,110.35,114.23,114.68], \n                           'C'['big','small','big','small','small']}) \nНеобходимо масштабировать его числовые столбцы. \nРешение: ",
      "metadata": {}
    },
    {
      "cell_type": "code",
      "source": "import pandas as pd\nfrom sklearn.preprocessing import MinMaxScaler\nscaler = MinMaxScaler()\ndfTest = pd.DataFrame({'A':[14.00, 90.20, 90.95, 96.27, 91.21],\n                      'B':[103.02, 107.26, 110.35, 114.23, 114.68],\n                      'C':['big', 'small', 'big', 'small', 'small']})\ndfTest[['A', 'B']] = scaler.fit_transform(dfTest[['A', 'B']])\ndfTest",
      "metadata": {
        "trusted": true
      },
      "execution_count": 28,
      "outputs": [
        {
          "execution_count": 28,
          "output_type": "execute_result",
          "data": {
            "text/plain": "          A         B      C\n0  0.000000  0.000000    big\n1  0.926219  0.363636  small\n2  0.935335  0.628645    big\n3  1.000000  0.961407  small\n4  0.938495  1.000000  small",
            "text/html": "<div>\n<style scoped>\n    .dataframe tbody tr th:only-of-type {\n        vertical-align: middle;\n    }\n\n    .dataframe tbody tr th {\n        vertical-align: top;\n    }\n\n    .dataframe thead th {\n        text-align: right;\n    }\n</style>\n<table border=\"1\" class=\"dataframe\">\n  <thead>\n    <tr style=\"text-align: right;\">\n      <th></th>\n      <th>A</th>\n      <th>B</th>\n      <th>C</th>\n    </tr>\n  </thead>\n  <tbody>\n    <tr>\n      <th>0</th>\n      <td>0.000000</td>\n      <td>0.000000</td>\n      <td>big</td>\n    </tr>\n    <tr>\n      <th>1</th>\n      <td>0.926219</td>\n      <td>0.363636</td>\n      <td>small</td>\n    </tr>\n    <tr>\n      <th>2</th>\n      <td>0.935335</td>\n      <td>0.628645</td>\n      <td>big</td>\n    </tr>\n    <tr>\n      <th>3</th>\n      <td>1.000000</td>\n      <td>0.961407</td>\n      <td>small</td>\n    </tr>\n    <tr>\n      <th>4</th>\n      <td>0.938495</td>\n      <td>1.000000</td>\n      <td>small</td>\n    </tr>\n  </tbody>\n</table>\n</div>"
          },
          "metadata": {}
        }
      ]
    },
    {
      "cell_type": "markdown",
      "source": "3.3.2 Задание \nЗадача: \nЗагрузить фрейм данных по ссылке : \nhttps://raw.githubusercontent.com/akmand/datasets/master/iris.csv. \nНеобходимо выполнить нормализацию первого числового признака (sepal_length_cm) с использованием минимаксного преобразования, а второго (sepal_width_cm) с задействованием z-масштабирования. ",
      "metadata": {}
    },
    {
      "cell_type": "code",
      "source": "import pandas as pd\nimport numpy as np\nfrom sklearn.preprocessing import MinMaxScaler\nfrom sklearn.preprocessing import StandardScaler\nimport pyodide_http\npyodide_http.patch_all()\nurl = 'https://raw.githubusercontent.com/akmand/datasets/master/iris.csv'\ndataframe = pd.read_csv(url)\n# нормализация первого числового признака (sepal_length_cm) с использованием минимаксного преобразования\nscaler1 = MinMaxScaler()\ndataframe[['sepal_length_cm']] = scaler1.fit_transform(dataframe[['sepal_length_cm']])\n# нормализация второго числового признака (sepal_width_cm) с задействованием z-масштабирования\nscaler2 = StandardScaler()\ndataframe[['sepal_width_cm']] = scaler2.fit_transform(dataframe[['sepal_width_cm']])\n\ndataframe",
      "metadata": {
        "trusted": true
      },
      "execution_count": 35,
      "outputs": [
        {
          "execution_count": 35,
          "output_type": "execute_result",
          "data": {
            "text/plain": "     sepal_length_cm  sepal_width_cm  petal_length_cm  petal_width_cm  \\\n0           0.222222        1.032057              1.4             0.2   \n1           0.166667       -0.124958              1.4             0.2   \n2           0.111111        0.337848              1.3             0.2   \n3           0.083333        0.106445              1.5             0.2   \n4           0.194444        1.263460              1.4             0.2   \n..               ...             ...              ...             ...   \n145         0.666667       -0.124958              5.2             2.3   \n146         0.555556       -1.281972              5.0             1.9   \n147         0.611111       -0.124958              5.2             2.0   \n148         0.527778        0.800654              5.4             2.3   \n149         0.444444       -0.124958              5.1             1.8   \n\n       species  \n0       setosa  \n1       setosa  \n2       setosa  \n3       setosa  \n4       setosa  \n..         ...  \n145  virginica  \n146  virginica  \n147  virginica  \n148  virginica  \n149  virginica  \n\n[150 rows x 5 columns]",
            "text/html": "<div>\n<style scoped>\n    .dataframe tbody tr th:only-of-type {\n        vertical-align: middle;\n    }\n\n    .dataframe tbody tr th {\n        vertical-align: top;\n    }\n\n    .dataframe thead th {\n        text-align: right;\n    }\n</style>\n<table border=\"1\" class=\"dataframe\">\n  <thead>\n    <tr style=\"text-align: right;\">\n      <th></th>\n      <th>sepal_length_cm</th>\n      <th>sepal_width_cm</th>\n      <th>petal_length_cm</th>\n      <th>petal_width_cm</th>\n      <th>species</th>\n    </tr>\n  </thead>\n  <tbody>\n    <tr>\n      <th>0</th>\n      <td>0.222222</td>\n      <td>1.032057</td>\n      <td>1.4</td>\n      <td>0.2</td>\n      <td>setosa</td>\n    </tr>\n    <tr>\n      <th>1</th>\n      <td>0.166667</td>\n      <td>-0.124958</td>\n      <td>1.4</td>\n      <td>0.2</td>\n      <td>setosa</td>\n    </tr>\n    <tr>\n      <th>2</th>\n      <td>0.111111</td>\n      <td>0.337848</td>\n      <td>1.3</td>\n      <td>0.2</td>\n      <td>setosa</td>\n    </tr>\n    <tr>\n      <th>3</th>\n      <td>0.083333</td>\n      <td>0.106445</td>\n      <td>1.5</td>\n      <td>0.2</td>\n      <td>setosa</td>\n    </tr>\n    <tr>\n      <th>4</th>\n      <td>0.194444</td>\n      <td>1.263460</td>\n      <td>1.4</td>\n      <td>0.2</td>\n      <td>setosa</td>\n    </tr>\n    <tr>\n      <th>...</th>\n      <td>...</td>\n      <td>...</td>\n      <td>...</td>\n      <td>...</td>\n      <td>...</td>\n    </tr>\n    <tr>\n      <th>145</th>\n      <td>0.666667</td>\n      <td>-0.124958</td>\n      <td>5.2</td>\n      <td>2.3</td>\n      <td>virginica</td>\n    </tr>\n    <tr>\n      <th>146</th>\n      <td>0.555556</td>\n      <td>-1.281972</td>\n      <td>5.0</td>\n      <td>1.9</td>\n      <td>virginica</td>\n    </tr>\n    <tr>\n      <th>147</th>\n      <td>0.611111</td>\n      <td>-0.124958</td>\n      <td>5.2</td>\n      <td>2.0</td>\n      <td>virginica</td>\n    </tr>\n    <tr>\n      <th>148</th>\n      <td>0.527778</td>\n      <td>0.800654</td>\n      <td>5.4</td>\n      <td>2.3</td>\n      <td>virginica</td>\n    </tr>\n    <tr>\n      <th>149</th>\n      <td>0.444444</td>\n      <td>-0.124958</td>\n      <td>5.1</td>\n      <td>1.8</td>\n      <td>virginica</td>\n    </tr>\n  </tbody>\n</table>\n<p>150 rows × 5 columns</p>\n</div>"
          },
          "metadata": {}
        }
      ]
    },
    {
      "cell_type": "code",
      "source": "",
      "metadata": {},
      "execution_count": null,
      "outputs": []
    }
  ]
}