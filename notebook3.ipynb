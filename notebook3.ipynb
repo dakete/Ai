{
  "nbformat": 4,
  "nbformat_minor": 0,
  "metadata": {
    "colab": {
      "provenance": []
    },
    "kernelspec": {
      "name": "python3",
      "display_name": "Python 3"
    },
    "language_info": {
      "name": "python"
    }
  },
  "cells": [
    {
      "cell_type": "markdown",
      "source": [
        "Рабочая тетрадь №3"
      ],
      "metadata": {
        "id": "kgQBx2uLbEYP"
      }
    },
    {
      "cell_type": "markdown",
      "source": [
        "#1.1. Теоретический материал – Функции Python\n",
        "Перед тем как рассматривать задачи классификации вспомним\n",
        "понятие функции (метода) в Python. Функция в python - объект,\n",
        "принимающий аргументы и возвращающий значение. Обычно функция\n",
        "определяется с помощью инструкции `def`.\n",
        "Определим простейшую функцию:\n",
        "def add(x, y):\n",
        " return x + y\n",
        "Инструкция return говорит, что нужно вернуть значение. В нашем\n",
        "случае функция возвращает сумму x и y. Теперь мы ее можем вызвать:\n",
        "add(1, 10)\n",
        "add('abc', 'def')\n",
        "'abcdef'\n",
        "Функция может быть любой сложности и возвращать любые объекты\n",
        "(списки, кортежи, и даже функции):\n",
        "def newfunc(n):\n",
        " def myfunc(x):\n",
        " return x + n\n",
        " return myfunc\n",
        "new = newfunc(100) # new - это функция\n",
        "new(200)\n",
        "300\n",
        "Функция может и не заканчиваться инструкцией return, при этом\n",
        "функция вернет значение None:\n",
        "def func():\n",
        " pass\n",
        "print(func())\n",
        "None\n",
        "Функция может принимать произвольное количество аргументов или\n",
        "не принимать их вовсе. Также распространены функции с произвольным\n",
        "числом аргументов, функции с позиционными и именованными\n",
        "аргументами, обязательными и необязательными.\n",
        "def func(*args):\n",
        " return args\n",
        "func(1, 2, 3, 'abc')\n",
        "(1, 2, 3, 'abc')\n",
        "func()\n",
        "()\n",
        "func(1)\n",
        "(1,)\n",
        "Как видно из примера, args - это кортеж из всех переданных\n",
        "аргументов функции, и с переменной можно работать также, как и с\n",
        "кортежем.\n",
        "Функция может принимать и произвольное число именованных\n",
        "аргументов, тогда перед именем ставится **:\n",
        "def func(**kwargs):\n",
        " return kwargs\n",
        "func(a=1, b=2, c=3)\n",
        "{'a': 1, 'c': 3, 'b': 2}\n",
        "func()\n",
        "{}\n",
        "func(a='python')\n",
        "{'a': 'python'}"
      ],
      "metadata": {
        "id": "A5PseRG4dCy9"
      }
    },
    {
      "cell_type": "markdown",
      "source": [
        "# 1.2.1 Пример"
      ],
      "metadata": {
        "id": "7rKbT0TLdhfn"
      }
    },
    {
      "cell_type": "markdown",
      "source": [
        "Напишите функцию sum_range(start, end), которая суммирует все целые\n",
        "числа от значения «start» до величины «end» включительно.\n",
        "Если пользователь задаст первое число большее чем второе, просто\n",
        "поменяйте их местами."
      ],
      "metadata": {
        "id": "5CnBfZi8dun0"
      }
    },
    {
      "cell_type": "code",
      "source": [
        "def sum_range(start, end):\n",
        "  if start > end:\n",
        "    end, start = start, end\n",
        "  return sum(range(start, end + 1))\n",
        "\n",
        "#Тесты\n",
        "print(sum_range(2, 12))\n",
        "print(sum_range(-4, 4))\n",
        "print(sum_range(3, 2))"
      ],
      "metadata": {
        "colab": {
          "base_uri": "https://localhost:8080/"
        },
        "id": "drvTSUEbd1W9",
        "outputId": "c4dc6735-75a6-447e-db3f-820d3b3a05fd"
      },
      "execution_count": 3,
      "outputs": [
        {
          "output_type": "stream",
          "name": "stdout",
          "text": [
            "77\n",
            "0\n",
            "5\n"
          ]
        }
      ]
    },
    {
      "cell_type": "markdown",
      "source": [
        "# 1.2.2 Пример"
      ],
      "metadata": {
        "id": "VXZKIvMxebE6"
      }
    },
    {
      "cell_type": "markdown",
      "source": [
        "Напишите рекурсивную функцию вычисления факториала на языке\n",
        "Python"
      ],
      "metadata": {
        "id": "IRkmXD4JecVK"
      }
    },
    {
      "cell_type": "code",
      "source": [
        "def fact(num):\n",
        "  if num == 0:\n",
        "    return 1\n",
        "  else:\n",
        "    return num * fact(num - 1)\n",
        "print(fact(5))\n"
      ],
      "metadata": {
        "colab": {
          "base_uri": "https://localhost:8080/"
        },
        "id": "UDqZAezCeeTr",
        "outputId": "2634d1e6-e843-4e4f-8973-d9ede4613f1d"
      },
      "execution_count": 5,
      "outputs": [
        {
          "output_type": "stream",
          "name": "stdout",
          "text": [
            "120\n"
          ]
        }
      ]
    },
    {
      "cell_type": "markdown",
      "source": [
        "#1.1. Теоретический материал – Расстояние между объектами\n",
        "класса\n",
        "Определение расстояния между объектами класса\n",
        "Сходство или различие между объектами классификации\n",
        "устанавливается в зависимости от выбранного метрического расстояния\n",
        "между ними. Если каждый объект описывается n свойствами (признаками),\n",
        "то он может быть представлен как точка в n-мерном пространстве, и\n",
        "сходство с другими объектами будет определяться как соответствующее\n",
        "расстояние. При классификации используются различные меры расстояния\n",
        "между объектами.\n",
        "1. Евклидово расстояние\n",
        "Это, пожалуй, наиболее часто используемая мера расстояния. Она\n",
        "является геометрическим расстоянием в многомерном пространстве и\n",
        "вычисляется следующим образом:\n",
        "где\n",
        " – расстояние между объектами A и B;\n",
        " – значение i-свойства объекта A;\n",
        " – значение i-свойства объекта B.\n",
        "\n",
        "2. Квадрат евклидова расстояния\n",
        "Данная мера расстояния используется в тех случаях, когда требуется\n",
        "придать больше значение более отдаленным друг от друга объектам. Это\n",
        "расстояние вычисляется следующим образом:\n",
        "\n",
        "3. Взвешенное евклидово расстояние\n",
        "Применяется в тех случаях, когда каждому i-свойству удается приписать\n",
        "некоторый «вес» wi, пропорционально степени важности признака в задаче\n",
        "классификации:\n",
        "\n",
        "4. Хеммингово расстояние\n",
        "Также называется манхэттенским, сити-блок расстоянием или расстоянием\n",
        "городских кварталов. Это расстояние является разностью по координатам.\n",
        "Хеммингово расстояние вычисляется по формуле:\n",
        "\n",
        "5. Расстояние Чебышева\n",
        "Принимает значение наибольшего модуля разности между значениями\n",
        "соответствующих свойств (признаков) объектов:\n",
        "Выбор меры расстояния и весов для классифицирующих свойств –\n",
        "очень важный этап, так как от этих процедур зависят состав и количество\n",
        "формируемых классов, а также степень сходства объектов внутри классов.\n",
        "\n",
        "Выбор меры расстояния и весов для классифицирующих свойств –\n",
        "очень важный этап, так как от этих процедур зависят состав и количество\n",
        "формируемых классов, а также степень сходства объектов внутри классов."
      ],
      "metadata": {
        "id": "NYT1xrcxe5Mq"
      }
    },
    {
      "cell_type": "markdown",
      "source": [
        "#1.2.3 Пример"
      ],
      "metadata": {
        "id": "Y3XDxYsUfoSE"
      }
    },
    {
      "cell_type": "markdown",
      "source": [
        "Напишите функции в Python, которая вычисляет Евклидово расстояние\n",
        "между двумя массивами NumPy."
      ],
      "metadata": {
        "id": "NUqW7pptfrWA"
      }
    },
    {
      "cell_type": "code",
      "source": [
        "import numpy as np\n",
        "def  euclidean_distance(v1, v2):\n",
        "  return sum((x - y) ** 2 for x, y in zip(v1,v2)) ** 0.5\n",
        "\n",
        "x = np.array([0,0,0])\n",
        "y = np.array([3,3,3])\n",
        "print(euclidean_distance(x, y))"
      ],
      "metadata": {
        "colab": {
          "base_uri": "https://localhost:8080/"
        },
        "id": "8m1JPSSXfsTu",
        "outputId": "19845dea-7920-4878-c486-86245e5aca61"
      },
      "execution_count": 7,
      "outputs": [
        {
          "output_type": "stream",
          "name": "stdout",
          "text": [
            "5.196152422706632\n"
          ]
        }
      ]
    },
    {
      "cell_type": "markdown",
      "source": [
        "#1.2.4 Пример"
      ],
      "metadata": {
        "id": "9w5DPJTRgj23"
      }
    },
    {
      "cell_type": "markdown",
      "source": [
        "Напишите 4 функции в Python, которые рассчитывают квадрат Евклидова\n",
        "расстояния, взвешенное евклидово расстояние, Хеммингово расстояние и\n",
        "расстояние Чебышева между двумя массивами NumPy"
      ],
      "metadata": {
        "id": "2w_eEkZrgmyU"
      }
    },
    {
      "cell_type": "code",
      "source": [
        "def sqr_euclidean_distance(v1, v2):\n",
        "  return sum((x - y) ** 2 for x, y in zip(v1, v2))\n",
        "\n",
        "def weighted_euclidean_distance(v1, v2, w):\n",
        "  return sum((x - y) ** 2 * s for x, y, s in zip(v1, v2, w)) ** 0.5\n",
        "\n",
        "def manhattan_distance(v1, v2):\n",
        "  return sum(abs(x - y) for (x, y) in zip(v1 ,v2))\n",
        "\n",
        "def chebyshev_distance(v1, v2):\n",
        "  return max(abs(x - y) for (x, y) in zip(v1 ,v2))\n",
        "\n",
        "x = np.array([0,0,0])\n",
        "y = np.array([3,3,3])\n",
        "w = np.array([0,0,1])\n",
        "print(sqr_euclidean_distance(x, y))\n",
        "print(weighted_euclidean_distance(x, y, w))\n",
        "print(manhattan_distance(x, y))\n",
        "print(chebyshev_distance(x, y))"
      ],
      "metadata": {
        "colab": {
          "base_uri": "https://localhost:8080/"
        },
        "id": "iFs1ioRzgpGp",
        "outputId": "c72a3ed9-6ddc-4c9f-f0ab-f05dec9853b4"
      },
      "execution_count": 11,
      "outputs": [
        {
          "output_type": "stream",
          "name": "stdout",
          "text": [
            "27\n",
            "3.0\n",
            "9\n",
            "3\n"
          ]
        }
      ]
    },
    {
      "cell_type": "markdown",
      "source": [
        "#1.2.5 Пример"
      ],
      "metadata": {
        "id": "v6qMLFdOi3T9"
      }
    },
    {
      "cell_type": "markdown",
      "source": [
        "В Python есть встроенные функции для вычисления расстояний между\n",
        "векторами. Мы будем использовать NumPy для расчета расстояния для\n",
        "двух точек, поскольку ранее рассмотренные структуры данных могут быть\n",
        "переведены в Numpy массив с помощью специальных функциий.\n",
        "Например, для серий это будет выглядеть следующим образом:\n",
        "seriesName.to_numpy().\n",
        "Для удобства визуализации и анализа результатов в дальнейших расчетах\n",
        "будм использовать 2 точки в 3-х мерном пространстве:"
      ],
      "metadata": {
        "id": "kjY_LFTdi4H8"
      }
    },
    {
      "cell_type": "code",
      "source": [
        "import matplotlib.pyplot as plt\n",
        "from mpl_toolkits.mplot3d import Axes3D\n",
        "\n",
        "fig = plt.figure()\n",
        "ax = fig.add_subplot(111, projection = '3d')\n",
        "\n",
        "ax.scatter(0,0,0)\n",
        "ax.scatter(3,3,3)\n",
        "plt.show()"
      ],
      "metadata": {
        "colab": {
          "base_uri": "https://localhost:8080/",
          "height": 259
        },
        "id": "cSErxqNHi6oV",
        "outputId": "5d9fc698-5f10-4c06-85fd-d1cfbf2c17d8"
      },
      "execution_count": 31,
      "outputs": [
        {
          "output_type": "display_data",
          "data": {
            "text/plain": [
              "<Figure size 432x288 with 1 Axes>"
            ],
            "image/png": "[encoded data removed]"
          },
          "metadata": {
            "needs_background": "light"
          }
        }
      ]
    },
    {
      "cell_type": "markdown",
      "source": [
        "#1.2.6 Пример"
      ],
      "metadata": {
        "id": "7JbeMM03j2ZR"
      }
    },
    {
      "cell_type": "markdown",
      "source": [
        "Рассчитать расстояния между двумя точками с использованием методов\n",
        "определения расстояний, представленных выше."
      ],
      "metadata": {
        "id": "fxBtn_Ndj3s1"
      }
    },
    {
      "cell_type": "code",
      "source": [
        "#расстояние Евклида\n",
        "print(np.linalg.norm(x - y))\n",
        "#квадрат расстояния Евклида\n",
        "print(np.linalg.norm(x - y) ** 2)\n",
        "#расстояние Чебышева\n",
        "print(np.linalg.norm(x - y, ord = np.inf))\n",
        "#расстояние Хемминга\n",
        "print(np.linalg.norm(x - y, ord = 1))"
      ],
      "metadata": {
        "colab": {
          "base_uri": "https://localhost:8080/"
        },
        "id": "C-afhggUj5zf",
        "outputId": "50930815-e7be-4ab7-94f7-f6be5b91be08"
      },
      "execution_count": 24,
      "outputs": [
        {
          "output_type": "stream",
          "name": "stdout",
          "text": [
            "5.196152422706632\n",
            "27.0\n",
            "3.0\n",
            "9.0\n"
          ]
        }
      ]
    },
    {
      "cell_type": "markdown",
      "source": [
        "#1.3.1 Задание"
      ],
      "metadata": {
        "id": "NyHtjBE-loUB"
      }
    },
    {
      "cell_type": "markdown",
      "source": [
        "Задача:\n",
        "Задайте 4 точки в трехмерном пространстве, рассчитайте между ними\n",
        "расстояния по описанным в примере выше метрикам. Отобразите точки\n",
        "в трехмерном пространстве."
      ],
      "metadata": {
        "id": "1J5g_0Vllqdj"
      }
    },
    {
      "cell_type": "code",
      "source": [
        "import matplotlib.pyplot as plt\n",
        "from mpl_toolkits.mplot3d import Axes3D\n",
        "\n",
        "fig = plt.figure()\n",
        "ax = fig.add_subplot(111, projection = '3d')\n",
        "\n",
        "x = ax.scatter(0,0,0)\n",
        "y = ax.scatter(3,3,3)\n",
        "z = ax.scatter(6,6,6)\n",
        "w = ax.scatter(9,9,9)\n",
        "plt.show()\n",
        "\n",
        "def  euclidean_distance(v1, v2, v3, v4):\n",
        "  return sum((x - y - z - w) ** 2 for x, y, z, w in zip(v1, v2 ,v3 ,v4)) ** 0.5\n",
        "\n",
        "x = np.array([0,0,0])\n",
        "y = np.array([3,3,3])\n",
        "z = np.array([6,6,6])\n",
        "w = np.array([9,9,9])\n",
        "\n",
        "print(sqr_euclidean_distance(x, y, z, w))\n"
      ],
      "metadata": {
        "colab": {
          "base_uri": "https://localhost:8080/",
          "height": 272
        },
        "id": "mQnTLyC8luWs",
        "outputId": "68db6cd6-eda5-498b-8e89-9cc4c794554b"
      },
      "execution_count": 40,
      "outputs": [
        {
          "output_type": "display_data",
          "data": {
            "text/plain": [
              "<Figure size 432x288 with 1 Axes>"
            ],
            "image/png": "[encoded data removed]"
          },
          "metadata": {
            "needs_background": "light"
          }
        },
        {
          "output_type": "stream",
          "name": "stdout",
          "text": [
            "15.588457268119896\n"
          ]
        }
      ]
    },
    {
      "cell_type": "markdown",
      "source": [
        "#1.3.2 Задание"
      ],
      "metadata": {
        "id": "P3hke1iSr3dB"
      }
    },
    {
      "cell_type": "markdown",
      "source": [
        "Создать 5x5 матрицу со значениями в строках от 0 до 4. Для создания\n",
        "необходимо использовать функцию arange"
      ],
      "metadata": {
        "id": "8I-zuAMsr62d"
      }
    },
    {
      "cell_type": "code",
      "source": [
        "z = np.zeros((5, 5))\n",
        "z += np.arange(5)\n",
        "print(z)"
      ],
      "metadata": {
        "colab": {
          "base_uri": "https://localhost:8080/"
        },
        "id": "hopiBcVbr9w6",
        "outputId": "224e7944-42da-441a-fc7b-b854f96b7eb3"
      },
      "execution_count": 44,
      "outputs": [
        {
          "output_type": "stream",
          "name": "stdout",
          "text": [
            "[[0. 1. 2. 3. 4.]\n",
            " [0. 1. 2. 3. 4.]\n",
            " [0. 1. 2. 3. 4.]\n",
            " [0. 1. 2. 3. 4.]\n",
            " [0. 1. 2. 3. 4.]]\n"
          ]
        }
      ]
    },
    {
      "cell_type": "markdown",
      "source": [
        "#2.1. Теоретический материал – Задачи классификации\n",
        "Решение задачи классификации методом k ближайших соседей\n",
        "Метод k-ближайших соседей используется для решения задачи\n",
        "классификации. Он относит объекты к классу, которому принадлежит\n",
        "большинство из k его ближайших соседей в многомерном пространстве\n",
        "признаков. Это один из простейших алгоритмов обучения\n",
        "классификационных моделей. Число k – это количество соседних объектов\n",
        "в пространстве признаков, которые сравниваются с классифицируемым\n",
        "объектом. Иными словами, если k=10, то каждый объект сравнивается с 10-\n",
        "ю соседями. В процессе обучения алгоритм просто запоминает все векторы\n",
        "признаков и соответствующие им метки классов. При работе с реальными\n",
        "данными, т.е. наблюдениями, метки класса которых неизвестны,\n",
        "вычисляется расстояние между вектором нового наблюдения и ранее\n",
        "запомненными. Затем выбирается k ближайших к нему векторов, и новый\n",
        "объект относится к классу, которому принадлежит большинство из них.\n",
        "Приведем алгоритм метода.\n",
        "\n",
        "1. Выберите значение K соседей (скажем, k = 5)\n",
        "\n",
        "2. Найдите ближайшую точку данных K (5) для нашей новой точки\n",
        "данных на основе евклидова расстояния (которое мы обсудим позже)\n",
        "\n",
        "3. Среди этих K точек данных подсчитайте точки данных в каждой\n",
        "категории.\n",
        "\n",
        "4. Назначьте новую точку данных категории, которая имеет наибольшее\n",
        "количество соседей с новой точкой данных\n",
        "\n",
        "Модуль библиотеки sklearn - sklearn.neighbors предоставляет\n",
        "функциональные возможности для контролируемого обучения на основе\n",
        "соседей. Обучение на основе контролируемых соседей бывает двух видов:\n",
        "классификация данных с дискретными метками и регрессия для данных с\n",
        "непрерывными метками. В данном разделе рассмотрим несколько примеров\n",
        "с использованием названного метода."
      ],
      "metadata": {
        "id": "b0hpkuj9sYho"
      }
    },
    {
      "cell_type": "markdown",
      "source": [
        "#2.2.1 Пример"
      ],
      "metadata": {
        "id": "-pKVwqcpsdd4"
      }
    },
    {
      "cell_type": "markdown",
      "source": [
        "В примере показано создание 2d-массива со значениями x и y. Список\n",
        "target содержит возможные выходные классы (часто называемые\n",
        "метками). Далее происходит обучене классификатора k-ближайших\n",
        "соседей по исходным данным. Далее производится прогноз\n",
        "принадлежности к классам для двух точек данных"
      ],
      "metadata": {
        "id": "_sLlJP0Bs1aN"
      }
    },
    {
      "cell_type": "code",
      "source": [
        "from sklearn.neighbors import KNeighborsClassifier\n",
        "import numpy as np\n",
        "\n",
        "#данные\n",
        "X = np.array([[-1,1],[-2,-1],[-3,-2],[1,1],[2,1],[3,2]])\n",
        "target = [0,0,0,1,1,1]\n",
        "\n",
        "#обучаем модель k-ближайших соседей к данным\n",
        "k = 3\n",
        "model = KNeighborsClassifier(n_neighbors = k)\n",
        "model.fit(X, target)\n",
        "print(model)\n",
        "\n",
        "#делаем прогноз\n",
        "print('(-2,2) is class'),\n",
        "print(model.predict([[-2,2]]))\n",
        "\n",
        "print('(1,3) is class'),\n",
        "print(model.predict([[1,3]]))"
      ],
      "metadata": {
        "colab": {
          "base_uri": "https://localhost:8080/"
        },
        "id": "C5ac1T3hs41O",
        "outputId": "ca331183-d805-4ecb-93aa-da1a8707a6b1"
      },
      "execution_count": 50,
      "outputs": [
        {
          "output_type": "stream",
          "name": "stdout",
          "text": [
            "KNeighborsClassifier(n_neighbors=3)\n",
            "(-2,2) is class\n",
            "[0]\n",
            "(1,3) is class\n",
            "[1]\n"
          ]
        }
      ]
    },
    {
      "cell_type": "markdown",
      "source": [
        "#2.2.2 Пример"
      ],
      "metadata": {
        "id": "I2ONAaZww-fE"
      }
    },
    {
      "cell_type": "markdown",
      "source": [
        "Далее приведем более наглядный пример. Будет построена граница\n",
        "решения для каждого класса. В качестве данных будем использовать уже\n",
        "знакомый нам и встроенный в библиотеку sklearn набор данных ирисов\n",
        "Фишера. Этот набор данных стал уже классическим, и часто используется\n",
        "в литературе для иллюстрации работы различных статистических\n",
        "алгоритмов. Датасет содержит наблюдения за 150 разными цветками\n",
        "ирисов, данные по каждому цветку расположены в строках. В стобцах\n",
        "записаны длина и ширина чашелистика, длина и ширина лепестка, вид\n",
        "ириса."
      ],
      "metadata": {
        "id": "ZbyTPN5Mw_Ui"
      }
    },
    {
      "cell_type": "code",
      "source": [
        "from sklearn.neighbors import KNeighborsClassifier\n",
        "import seaborn as sns\n",
        "\n",
        "iris = sns.load_dataset('iris')\n",
        "iris"
      ],
      "metadata": {
        "colab": {
          "base_uri": "https://localhost:8080/",
          "height": 424
        },
        "id": "7jw_d-yOxCa-",
        "outputId": "66069de5-6070-41dd-b2d6-f69dd6db4b08"
      },
      "execution_count": 54,
      "outputs": [
        {
          "output_type": "execute_result",
          "data": {
            "text/plain": [
              "     sepal_length  sepal_width  petal_length  petal_width    species\n",
              "0             5.1          3.5           1.4          0.2     setosa\n",
              "1             4.9          3.0           1.4          0.2     setosa\n",
              "2             4.7          3.2           1.3          0.2     setosa\n",
              "3             4.6          3.1           1.5          0.2     setosa\n",
              "4             5.0          3.6           1.4          0.2     setosa\n",
              "..            ...          ...           ...          ...        ...\n",
              "145           6.7          3.0           5.2          2.3  virginica\n",
              "146           6.3          2.5           5.0          1.9  virginica\n",
              "147           6.5          3.0           5.2          2.0  virginica\n",
              "148           6.2          3.4           5.4          2.3  virginica\n",
              "149           5.9          3.0           5.1          1.8  virginica\n",
              "\n",
              "[150 rows x 5 columns]"
            ],
            "text/html": [
              "\n",
              "  <div id=\"df-0fd7861e-6fd2-4f8b-84e4-cd14dfe4f38f\">\n",
              "    <div class=\"colab-df-container\">\n",
              "      <div>\n",
              "<style scoped>\n",
              "    .dataframe tbody tr th:only-of-type {\n",
              "        vertical-align: middle;\n",
              "    }\n",
              "\n",
              "    .dataframe tbody tr th {\n",
              "        vertical-align: top;\n",
              "    }\n",
              "\n",
              "    .dataframe thead th {\n",
              "        text-align: right;\n",
              "    }\n",
              "</style>\n",
              "<table border=\"1\" class=\"dataframe\">\n",
              "  <thead>\n",
              "    <tr style=\"text-align: right;\">\n",
              "      <th></th>\n",
              "      <th>sepal_length</th>\n",
              "      <th>sepal_width</th>\n",
              "      <th>petal_length</th>\n",
              "      <th>petal_width</th>\n",
              "      <th>species</th>\n",
              "    </tr>\n",
              "  </thead>\n",
              "  <tbody>\n",
              "    <tr>\n",
              "      <th>0</th>\n",
              "      <td>5.1</td>\n",
              "      <td>3.5</td>\n",
              "      <td>1.4</td>\n",
              "      <td>0.2</td>\n",
              "      <td>setosa</td>\n",
              "    </tr>\n",
              "    <tr>\n",
              "      <th>1</th>\n",
              "      <td>4.9</td>\n",
              "      <td>3.0</td>\n",
              "      <td>1.4</td>\n",
              "      <td>0.2</td>\n",
              "      <td>setosa</td>\n",
              "    </tr>\n",
              "    <tr>\n",
              "      <th>2</th>\n",
              "      <td>4.7</td>\n",
              "      <td>3.2</td>\n",
              "      <td>1.3</td>\n",
              "      <td>0.2</td>\n",
              "      <td>setosa</td>\n",
              "    </tr>\n",
              "    <tr>\n",
              "      <th>3</th>\n",
              "      <td>4.6</td>\n",
              "      <td>3.1</td>\n",
              "      <td>1.5</td>\n",
              "      <td>0.2</td>\n",
              "      <td>setosa</td>\n",
              "    </tr>\n",
              "    <tr>\n",
              "      <th>4</th>\n",
              "      <td>5.0</td>\n",
              "      <td>3.6</td>\n",
              "      <td>1.4</td>\n",
              "      <td>0.2</td>\n",
              "      <td>setosa</td>\n",
              "    </tr>\n",
              "    <tr>\n",
              "      <th>...</th>\n",
              "      <td>...</td>\n",
              "      <td>...</td>\n",
              "      <td>...</td>\n",
              "      <td>...</td>\n",
              "      <td>...</td>\n",
              "    </tr>\n",
              "    <tr>\n",
              "      <th>145</th>\n",
              "      <td>6.7</td>\n",
              "      <td>3.0</td>\n",
              "      <td>5.2</td>\n",
              "      <td>2.3</td>\n",
              "      <td>virginica</td>\n",
              "    </tr>\n",
              "    <tr>\n",
              "      <th>146</th>\n",
              "      <td>6.3</td>\n",
              "      <td>2.5</td>\n",
              "      <td>5.0</td>\n",
              "      <td>1.9</td>\n",
              "      <td>virginica</td>\n",
              "    </tr>\n",
              "    <tr>\n",
              "      <th>147</th>\n",
              "      <td>6.5</td>\n",
              "      <td>3.0</td>\n",
              "      <td>5.2</td>\n",
              "      <td>2.0</td>\n",
              "      <td>virginica</td>\n",
              "    </tr>\n",
              "    <tr>\n",
              "      <th>148</th>\n",
              "      <td>6.2</td>\n",
              "      <td>3.4</td>\n",
              "      <td>5.4</td>\n",
              "      <td>2.3</td>\n",
              "      <td>virginica</td>\n",
              "    </tr>\n",
              "    <tr>\n",
              "      <th>149</th>\n",
              "      <td>5.9</td>\n",
              "      <td>3.0</td>\n",
              "      <td>5.1</td>\n",
              "      <td>1.8</td>\n",
              "      <td>virginica</td>\n",
              "    </tr>\n",
              "  </tbody>\n",
              "</table>\n",
              "<p>150 rows × 5 columns</p>\n",
              "</div>\n",
              "      <button class=\"colab-df-convert\" onclick=\"convertToInteractive('df-0fd7861e-6fd2-4f8b-84e4-cd14dfe4f38f')\"\n",
              "              title=\"Convert this dataframe to an interactive table.\"\n",
              "              style=\"display:none;\">\n",
              "        \n",
              "  <svg xmlns=\"http://www.w3.org/2000/svg\" height=\"24px\"viewBox=\"0 0 24 24\"\n",
              "       width=\"24px\">\n",
              "    <path d=\"M0 0h24v24H0V0z\" fill=\"none\"/>\n",
              "    <path d=\"M18.56 5.44l.94 2.06.94-2.06 2.06-.94-2.06-.94-.94-2.06-.94 2.06-2.06.94zm-11 1L8.5 8.5l.94-2.06 2.06-.94-2.06-.94L8.5 2.5l-.94 2.06-2.06.94zm10 10l.94 2.06.94-2.06 2.06-.94-2.06-.94-.94-2.06-.94 2.06-2.06.94z\"/><path d=\"M17.41 7.96l-1.37-1.37c-.4-.4-.92-.59-1.43-.59-.52 0-1.04.2-1.43.59L10.3 9.45l-7.72 7.72c-.78.78-.78 2.05 0 2.83L4 21.41c.39.39.9.59 1.41.59.51 0 1.02-.2 1.41-.59l7.78-7.78 2.81-2.81c.8-.78.8-2.07 0-2.86zM5.41 20L4 18.59l7.72-7.72 1.47 1.35L5.41 20z\"/>\n",
              "  </svg>\n",
              "      </button>\n",
              "      \n",
              "  <style>\n",
              "    .colab-df-container {\n",
              "      display:flex;\n",
              "      flex-wrap:wrap;\n",
              "      gap: 12px;\n",
              "    }\n",
              "\n",
              "    .colab-df-convert {\n",
              "      background-color: #E8F0FE;\n",
              "      border: none;\n",
              "      border-radius: 50%;\n",
              "      cursor: pointer;\n",
              "      display: none;\n",
              "      fill: #1967D2;\n",
              "      height: 32px;\n",
              "      padding: 0 0 0 0;\n",
              "      width: 32px;\n",
              "    }\n",
              "\n",
              "    .colab-df-convert:hover {\n",
              "      background-color: #E2EBFA;\n",
              "      box-shadow: 0px 1px 2px rgba(60, 64, 67, 0.3), 0px 1px 3px 1px rgba(60, 64, 67, 0.15);\n",
              "      fill: #174EA6;\n",
              "    }\n",
              "\n",
              "    [theme=dark] .colab-df-convert {\n",
              "      background-color: #3B4455;\n",
              "      fill: #D2E3FC;\n",
              "    }\n",
              "\n",
              "    [theme=dark] .colab-df-convert:hover {\n",
              "      background-color: #434B5C;\n",
              "      box-shadow: 0px 1px 3px 1px rgba(0, 0, 0, 0.15);\n",
              "      filter: drop-shadow(0px 1px 2px rgba(0, 0, 0, 0.3));\n",
              "      fill: #FFFFFF;\n",
              "    }\n",
              "  </style>\n",
              "\n",
              "      <script>\n",
              "        const buttonEl =\n",
              "          document.querySelector('#df-0fd7861e-6fd2-4f8b-84e4-cd14dfe4f38f button.colab-df-convert');\n",
              "        buttonEl.style.display =\n",
              "          google.colab.kernel.accessAllowed ? 'block' : 'none';\n",
              "\n",
              "        async function convertToInteractive(key) {\n",
              "          const element = document.querySelector('#df-0fd7861e-6fd2-4f8b-84e4-cd14dfe4f38f');\n",
              "          const dataTable =\n",
              "            await google.colab.kernel.invokeFunction('convertToInteractive',\n",
              "                                                     [key], {});\n",
              "          if (!dataTable) return;\n",
              "\n",
              "          const docLinkHtml = 'Like what you see? Visit the ' +\n",
              "            '<a target=\"_blank\" href=https://colab.research.google.com/notebooks/data_table.ipynb>data table notebook</a>'\n",
              "            + ' to learn more about interactive tables.';\n",
              "          element.innerHTML = '';\n",
              "          dataTable['output_type'] = 'display_data';\n",
              "          await google.colab.output.renderOutput(dataTable, element);\n",
              "          const docLink = document.createElement('div');\n",
              "          docLink.innerHTML = docLinkHtml;\n",
              "          element.appendChild(docLink);\n",
              "        }\n",
              "      </script>\n",
              "    </div>\n",
              "  </div>\n",
              "  "
            ]
          },
          "metadata": {},
          "execution_count": 54
        }
      ]
    },
    {
      "cell_type": "markdown",
      "source": [
        "#2.2.3 Пример"
      ],
      "metadata": {
        "id": "Pjt80Kmex9pk"
      }
    },
    {
      "cell_type": "markdown",
      "source": [
        "Покажем на графиках зависимости ширины лепестка от его длины, а также\n",
        "аналогичный график зависимость для длины и ширины чашелистика.\n",
        "Разные виды цветков отмечены разными цветами."
      ],
      "metadata": {
        "id": "UtDRZy_Rx_Lj"
      }
    },
    {
      "cell_type": "code",
      "source": [
        "#объявляем фигуру из двух графиков и ее размер\n",
        "plt.figure(figsize = (16, 7))\n",
        "\n",
        "#левый график\n",
        "plt.subplot(121)\n",
        "sns.scatterplot(data = iris,  x = 'petal_width', y = 'petal_length', hue = 'species', s = 70)\n",
        "plt.xlabel('Длина лепестка, см')\n",
        "plt.ylabel('Ширина лепестка, см')\n",
        "plt.legend() #добавить легенду\n",
        "plt.grid() #добавить сетку\n",
        "\n",
        "#правый график аналогично\n",
        "plt.subplot(122)\n",
        "sns.scatterplot(data = iris,  x = 'sepal_width', y = 'sepal_length', hue = 'species', s = 70)\n",
        "plt.xlabel('Длина чашелистика, см')\n",
        "plt.ylabel('Ширина чашелистика, см')\n",
        "plt.legend() #добавить легенду\n",
        "plt.grid() #добавить сетку"
      ],
      "metadata": {
        "colab": {
          "base_uri": "https://localhost:8080/",
          "height": 442
        },
        "id": "s-_Omc58yBf4",
        "outputId": "9a5affbc-76e7-4432-e00d-ca652f26dbd2"
      },
      "execution_count": 74,
      "outputs": [
        {
          "output_type": "display_data",
          "data": {
            "text/plain": [
              "<Figure size 1152x504 with 2 Axes>"
            ],
            "image/png": "[encoded data removed]"
          },
          "metadata": {
            "needs_background": "light"
          }
        }
      ]
    },
    {
      "cell_type": "markdown",
      "source": [
        "#2.2.4 Пример"
      ],
      "metadata": {
        "id": "9UwmXxmL4Dyl"
      }
    },
    {
      "cell_type": "markdown",
      "source": [
        "Из графиков видно, что в первом случае классы визуально хорошо\n",
        "отделимы друг от друга, хотя два классе имеют небольшое пересечение.\n",
        "Во втором случае разделить два класса между собой уже намного труднее.\n",
        "Далее разделим датасет на обучающую и тестовую выборки в\n",
        "соотношении 80:20. Обучающая выборка (training sample) — выборка, по\n",
        "которой производится настройка (оптимизация параметров) модели\n",
        "зависимости. Тестовая (или контрольная) выборка (test sample) —\n",
        "выборка, по которой оценивается качество построенной модели."
      ],
      "metadata": {
        "id": "jEHtdffC4GlY"
      }
    },
    {
      "cell_type": "code",
      "source": [
        "from sklearn.model_selection import train_test_split\n",
        "\n",
        "X_train, X_test, y_train, y_test = train_test_split(\n",
        "    #поскольку iris это pandas-таблица, для неё нужно указывать iloc\n",
        "    iris.iloc[:, :-1], # берем все колонки кроме последней в признаки\n",
        "    iris.iloc[:, -1], # последнюю в целевую переменную(class)\n",
        "    test_size = 0.20 #размер тестовой выборки 20%\n",
        ")\n",
        "X_train.shape, X_test.shape, y_train.shape, y_test.shape\n",
        "X_train.head()\n",
        "y_train.head()\n",
        "\n",
        "#обучим метод трех ближайших соседей\n",
        "model = KNeighborsClassifier(n_neighbors = 3)\n",
        "model.fit(X_train, y_train)\n",
        "\n",
        "#получим предсказания модели\n",
        "y_pred = model.predict(X_test)\n",
        "y_pred\n",
        "\n",
        "#покажем на графике что отражает полученное число\n",
        "#красным цветом обозначены точки, для которых классификация сработала неправильно\n",
        "plt.figure(figsize=(10, 7))\n",
        "sns.scatterplot(x = 'petal_width', y = 'petal_length', data = iris, hue = 'species', s = 70)\n",
        "plt.xlabel('Длина лепестка, см')\n",
        "plt.ylabel('Ширина лепестка, см')\n",
        "plt.legend(loc = 2) #добавить легенду\n",
        "plt.grid() #добавить сетку\n",
        "\n",
        "#перебираем все объекты из теста\n",
        "for i in range(len(y_test)):\n",
        "  #если предсказанное неправильно\n",
        "  if np.array (y_test)[i] != y_pred[i]:\n",
        "    #то подсвечиваем точку красным\n",
        "    plt.scatter(X_test.iloc[i, 3], X_test.iloc[i, 2], color = 'red', s = 150)\n",
        "\n",
        "#качество модели (доля правильных классифицированнных точек):\n",
        "from sklearn.metrics import accuracy_score\n",
        "print(f'accuracy: {accuracy_score(y_test, y_pred) :.3}')"
      ],
      "metadata": {
        "colab": {
          "base_uri": "https://localhost:8080/",
          "height": 460
        },
        "id": "yh8733vP4I7Q",
        "outputId": "0aa5135b-2a07-4a6d-8a2e-9516030ceee4"
      },
      "execution_count": 90,
      "outputs": [
        {
          "output_type": "stream",
          "name": "stdout",
          "text": [
            "accuracy: 1.0\n"
          ]
        },
        {
          "output_type": "display_data",
          "data": {
            "text/plain": [
              "<Figure size 720x504 with 1 Axes>"
            ],
            "image/png": "[encoded data removed]"
          },
          "metadata": {
            "needs_background": "light"
          }
        }
      ]
    },
    {
      "cell_type": "markdown",
      "source": [
        "#2.3.1 Задание"
      ],
      "metadata": {
        "id": "rXPu_aI_BFpa"
      }
    },
    {
      "cell_type": "markdown",
      "source": [
        "Для предыдущего примера поэкспериментируйте с параметрами\n",
        "классификатора:\n",
        "1. Установите другое количество ближайших соседей (k = 1, 5, 10).\n",
        "2. Установите размер тестовой выборки 15% от всего датасета.\n",
        "3. Постройте графики и оцените качество моделей, проанализируйте\n",
        "результаты."
      ],
      "metadata": {
        "id": "SMkgvtQSBHB_"
      }
    },
    {
      "cell_type": "code",
      "source": [
        "from sklearn.model_selection import train_test_split\n",
        "\n",
        "X_train, X_test, y_train, y_test = train_test_split(\n",
        "    #поскольку iris это pandas-таблица, для неё нужно указывать iloc\n",
        "    iris.iloc[:, :-1], # берем все колонки кроме последней в признаки\n",
        "    iris.iloc[:, -1], # последнюю в целевую переменную(class)\n",
        "    test_size = 0.15 #размер тестовой выборки 20%\n",
        ")\n",
        "X_train.shape, X_test.shape, y_train.shape, y_test.shape\n",
        "X_train.head()\n",
        "y_train.head()\n",
        "\n",
        "#обучим метод 5 ближайших соседей\n",
        "model = KNeighborsClassifier(n_neighbors = 5)\n",
        "model.fit(X_train, y_train)\n",
        "\n",
        "#получим предсказания модели\n",
        "y_pred = model.predict(X_test)\n",
        "y_pred\n",
        "\n",
        "#покажем на графике что отражает полученное число\n",
        "#красным цветом обозначены точки, для которых классификация сработала неправильно\n",
        "plt.figure(figsize=(10, 7))\n",
        "sns.scatterplot(x = 'petal_width', y = 'petal_length', data = iris, hue = 'species', s = 70)\n",
        "plt.xlabel('Длина лепестка, см')\n",
        "plt.ylabel('Ширина лепестка, см')\n",
        "plt.legend(loc = 2) #добавить легенду\n",
        "plt.grid() #добавить сетку\n",
        "\n",
        "#перебираем все объекты из теста\n",
        "for i in range(len(y_test)):\n",
        "  #если предсказанное неправильно\n",
        "  if np.array (y_test)[i] != y_pred[i]:\n",
        "    #то подсвечиваем точку красным\n",
        "    plt.scatter(X_test.iloc[i, 3], X_test.iloc[i, 2], color = 'red', s = 150)\n",
        "\n",
        "#качество модели (доля правильных классифицированнных точек):\n",
        "from sklearn.metrics import accuracy_score\n",
        "print(f'accuracy: {accuracy_score(y_test, y_pred) :.3}')"
      ],
      "metadata": {
        "colab": {
          "base_uri": "https://localhost:8080/",
          "height": 460
        },
        "id": "cirVM3coBLvt",
        "outputId": "18c648ab-9dca-4d3f-856b-ab98ace543f1"
      },
      "execution_count": 96,
      "outputs": [
        {
          "output_type": "stream",
          "name": "stdout",
          "text": [
            "accuracy: 0.957\n"
          ]
        },
        {
          "output_type": "display_data",
          "data": {
            "text/plain": [
              "<Figure size 720x504 with 1 Axes>"
            ],
            "image/png": "[encoded data removed]"
          },
          "metadata": {
            "needs_background": "light"
          }
        }
      ]
    },
    {
      "cell_type": "markdown",
      "source": [
        "#3.1. Теоретический материал – Работа с категориальными данными\n",
        "##Работа с категориальными данными\n",
        "Часто бывает полезно разбивать объекты на категории не по\n",
        "количеству, а по качеству. Эта качественная информация нередко\n",
        "представляется как принадлежность наблюдения к отдельной категории,\n",
        "такой как пол, цвета или марка автомобиля. Однако не все категориальные\n",
        "данные одинаковые. Наборы категорий без внутреннего упорядочения\n",
        "называются номинальными. Примеры номинальных категорий включают:\n",
        "1)синий, красный, зеленый;\n",
        "\n",
        "2)мужчина, женщина;\n",
        "\n",
        "3)банан, клубника, яблоко.\n",
        "\n",
        "С другой стороны, когда набор категорий имеет некое естественное\n",
        "упорядочение, мы называем его порядковым. Например:\n",
        "\n",
        "1)низкий, средний, высокий;\n",
        "\n",
        "2)молодые, старые;\n",
        "\n",
        "3)согласен, нейтрален, не согласен.\n",
        "\n",
        "Более того, категориальная информация часто представлена в данных\n",
        "в виде вектора или столбца символьных значений (например, \"Москва\",\n",
        "\"Санкт-Петербург\", \"Казань\"). Проблема в том, что большинство машиннообучающихся алгоритмов требуют ввода числовых значений.\n",
        "Алгоритм k ближайших соседей предоставляет простой пример.\n",
        "Одним из шагов в алгоритме является вычисление расстояний между\n",
        "наблюдениями — часто с использованием евклидова расстояния. Однако\n",
        "вычисление расстояния, очевидно, невозможно, если значение х, является\n",
        "строковым типом (например, \"Москва\"). Для того чтобы его можно было\n",
        "ввести в уравнение евклидова расстояния, нам нужно преобразовать это\n",
        "строковое значение в числовой формат. Наша цель — сделать\n",
        "преобразование, которое правильно передает информацию в категориях\n",
        "(упорядоченность, относительные интервалы между категориями и т. д.).\n",
        "Существует большое количество методов кодирования категориальных\n",
        "данных, среди которых нет универсальных. Выбирая метод, стоит\n",
        "отталкиваться от ваших данных, мощности множества категорий и\n",
        "алгоритма машинного обучения.\n",
        "\n",
        "Далее рассмотрим некоторые методы таких преобразований."
      ],
      "metadata": {
        "id": "NVSBAnTbBwt0"
      }
    },
    {
      "cell_type": "markdown",
      "source": [
        "#3.2.1. Пример"
      ],
      "metadata": {
        "id": "q7iF0rUaCVxW"
      }
    },
    {
      "cell_type": "markdown",
      "source": [
        "Дан порядковый категориальный признак (например, высокий, средний,\n",
        "низкий). Выполнить его кодировку.\n",
        "Для решения задачи можно использовать метод replace фрейма данных\n",
        "pandas для преобразования строковых меток в числовые эквиваленты"
      ],
      "metadata": {
        "id": "VrcfoGIsCZj5"
      }
    },
    {
      "cell_type": "code",
      "source": [
        "#загрузить библиотеку\n",
        "import pandas as pd\n",
        "\n",
        "#создать признаки\n",
        "dataframe = pd.DataFrame({\"оценка\":[\"низкая\", \"низкая\", \"средняя\", \"средняя\", \"высокая\",]})\n",
        "\n",
        "#создать словаь преобразования шкалы\n",
        "scale_mapper = {\"низкая\":1, \"средняя\":2, \"высокая\":3}\n",
        "\n",
        "#заменить значения признаков, на значения из словаря\n",
        "dataframe[\"оценка\"].replace(scale_mapper)"
      ],
      "metadata": {
        "colab": {
          "base_uri": "https://localhost:8080/"
        },
        "id": "Xo0Fzc3yCb07",
        "outputId": "875251f4-682e-4911-c080-dc5689d9b067"
      },
      "execution_count": 99,
      "outputs": [
        {
          "output_type": "execute_result",
          "data": {
            "text/plain": [
              "0    1\n",
              "1    1\n",
              "2    2\n",
              "3    2\n",
              "4    3\n",
              "Name: оценка, dtype: int64"
            ]
          },
          "metadata": {},
          "execution_count": 99
        }
      ]
    },
    {
      "cell_type": "markdown",
      "source": [
        "#3.2.2. Пример"
      ],
      "metadata": {
        "id": "eMliXTkKDuWo"
      }
    },
    {
      "cell_type": "markdown",
      "source": [
        "Дан словарь, и требуется его конвертировать в матрицу признаков.\n",
        "Для решения задачи можно задействовать класс-векторизатор словаря\n",
        "Dictvectorizer:"
      ],
      "metadata": {
        "id": "-pigCfBWDxAD"
      }
    },
    {
      "cell_type": "code",
      "source": [
        "from sklearn.feature_extraction import DictVectorizer\n",
        "#создаем словарь\n",
        "data_dict = [{\"красный\":2, \"синий\":4},\n",
        "              {\"красный\":4, \"синий\":3},\n",
        "              {\"красный\":1, \"желтый\":2},\n",
        "              {\"красный\":2, \"желтый\":2}]\n",
        "#создать векторизатор словаря\n",
        "dictvectorizer = DictVectorizer(sparse = False)\n",
        "#конвертировать словарь в матрицу признаков\n",
        "features = dictvectorizer.fit_transform(data_dict)\n",
        "features"
      ],
      "metadata": {
        "colab": {
          "base_uri": "https://localhost:8080/"
        },
        "id": "gvdRqaOZD0TM",
        "outputId": "98974d75-f26f-4a13-e979-4afe9ad73c7b"
      },
      "execution_count": 102,
      "outputs": [
        {
          "output_type": "execute_result",
          "data": {
            "text/plain": [
              "array([[0., 2., 4.],\n",
              "       [0., 4., 3.],\n",
              "       [2., 1., 0.],\n",
              "       [2., 2., 0.]])"
            ]
          },
          "metadata": {},
          "execution_count": 102
        }
      ]
    },
    {
      "cell_type": "markdown",
      "source": [],
      "metadata": {
        "id": "dCVpuuVmHLAG"
      }
    },
    {
      "cell_type": "markdown",
      "source": [
        "#3.3.2 Задание"
      ],
      "metadata": {
        "id": "dBXj0s9zHbrg"
      }
    },
    {
      "cell_type": "markdown",
      "source": [
        "Определите набор признаков человека, по аналогии из РТ 1, – например,\n",
        "цвет глаз и конвертируйте его в матрицу признаков"
      ],
      "metadata": {
        "id": "Cubw7UWrHhCg"
      }
    },
    {
      "cell_type": "code",
      "source": [
        "from sklearn.feature_extraction import DictVectorizer\n",
        "#создаем словарь\n",
        "data_dict = [{\"красные\":2, \"голубые\":4},\n",
        "              {\"коричневые\":4, \"зеленые\":3}]\n",
        "#создать векторизатор словаря\n",
        "dictvectorizer = DictVectorizer(sparse = False)\n",
        "#конвертировать словарь в матрицу признаков\n",
        "features = dictvectorizer.fit_transform(data_dict)\n",
        "features"
      ],
      "metadata": {
        "colab": {
          "base_uri": "https://localhost:8080/"
        },
        "id": "EdowasSuHivT",
        "outputId": "c7840ee6-b02f-4e58-8d14-e12a19c34680"
      },
      "execution_count": 103,
      "outputs": [
        {
          "output_type": "execute_result",
          "data": {
            "text/plain": [
              "array([[4., 0., 0., 2.],\n",
              "       [0., 3., 4., 0.]])"
            ]
          },
          "metadata": {},
          "execution_count": 103
        }
      ]
    }
  ]
}